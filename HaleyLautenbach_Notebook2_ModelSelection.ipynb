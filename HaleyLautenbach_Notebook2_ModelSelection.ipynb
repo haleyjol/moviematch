{
 "cells": [
  {
   "cell_type": "markdown",
   "metadata": {},
   "source": [
    "# Notebook 2: Model Selection\n",
    "\n",
    "**Haley Lautenbach**<br>\n",
    "haley.lautenbach@gmail.com"
   ]
  },
  {
   "cell_type": "markdown",
   "metadata": {},
   "source": [
    "**Research Problem:**\n",
    "There are many movie recommendation systems or streaming services that allow for users to set up a profile. This profile then adds information to the system about what types of films the user does and doesn't like, allowing for the system to make personalized recommendations to the user. However, there doesn't seem to be systems that recommend to more than one user, allowing for couples, families, groups of friends, to have personalized recommendations that take all of their preferences into account. \n",
    "\n",
    "This notebook is 2/4. It will first cover the creation of the movie similarities dataset, which uses cosine similarity and our previously created movie-feature utility matrix to judge which movies are most similar to eachother. This similarities dataset will eventually be used for choosing movies similar to the predicted top choices for our users, giving a more wide breadth of recommended options. The notebook will then cover the selection and optimzation of models for predicting user ratings. The models tested below are the Simon Funk SVD (Single Value Decomposition) as well as KNNBaseline, which is a KNN style type of recommender. "
   ]
  },
  {
   "cell_type": "code",
   "execution_count": 3,
   "metadata": {},
   "outputs": [],
   "source": [
    "# for visualizations & dataframe manipulation\n",
    "import pandas as pd\n",
    "import numpy as np\n",
    "import matplotlib.pyplot as plt\n",
    "\n",
    "# for pre-processing & evaluation\n",
    "import random\n",
    "from surprise import Dataset\n",
    "from surprise.reader import Reader\n",
    "from surprise import accuracy\n",
    "from surprise.model_selection import KFold\n",
    "from surprise.model_selection import train_test_split\n",
    "\n",
    "# for modelling\n",
    "from sklearn.metrics.pairwise import cosine_similarity\n",
    "from surprise.prediction_algorithms.matrix_factorization import SVD\n",
    "from surprise.prediction_algorithms import KNNBaseline\n",
    "from surprise.model_selection import GridSearchCV\n",
    "\n",
    "# to save models\n",
    "from surprise import dump"
   ]
  },
  {
   "cell_type": "markdown",
   "metadata": {
    "toc": true
   },
   "source": [
    "<h1>Table of Contents<span class=\"tocSkip\"></span></h1>\n",
    "<div class=\"toc\"><ul class=\"toc-item\"><li><span><a href=\"#Notebook-2:-Model-Selection\" data-toc-modified-id=\"Notebook-2:-Model-Selection-1\">Notebook 2: Model Selection</a></span><ul class=\"toc-item\"><li><span><a href=\"#1.1-Reading-in-Reference-Table\" data-toc-modified-id=\"1.1-Reading-in-Reference-Table-1.1\">1.1 Reading in Reference Table</a></span></li><li><span><a href=\"#1.2-Reading-in-Feature-Utility-Matrix\" data-toc-modified-id=\"1.2-Reading-in-Feature-Utility-Matrix-1.2\">1.2 Reading in Feature Utility Matrix</a></span></li><li><span><a href=\"#1.3-Creation-of-User-Utility-Matrix\" data-toc-modified-id=\"1.3-Creation-of-User-Utility-Matrix-1.3\">1.3 Creation of User Utility Matrix</a></span></li></ul></li><li><span><a href=\"#2.-Cosine-Similarity:-Item-Item-Content-Filtering\" data-toc-modified-id=\"2.-Cosine-Similarity:-Item-Item-Content-Filtering-2\">2. Cosine Similarity: Item-Item Content Filtering</a></span></li><li><span><a href=\"#3.-FunkSVD\" data-toc-modified-id=\"3.-FunkSVD-3\">3. FunkSVD</a></span><ul class=\"toc-item\"><li><span><a href=\"#3.1-Initial-Check-for-Ideal-Number-of-Factors\" data-toc-modified-id=\"3.1-Initial-Check-for-Ideal-Number-of-Factors-3.1\">3.1 Initial Check for Ideal Number of Factors</a></span></li><li><span><a href=\"#3.2-Grid-Search-for-Hyperparameter-Optimization\" data-toc-modified-id=\"3.2-Grid-Search-for-Hyperparameter-Optimization-3.2\">3.2 Grid Search for Hyperparameter Optimization</a></span><ul class=\"toc-item\"><li><span><a href=\"#3.2.1-Grid-Search-1\" data-toc-modified-id=\"3.2.1-Grid-Search-1-3.2.1\">3.2.1 Grid Search 1</a></span></li><li><span><a href=\"#3.2.2-Grid-Search-2\" data-toc-modified-id=\"3.2.2-Grid-Search-2-3.2.2\">3.2.2 Grid Search 2</a></span></li><li><span><a href=\"#3.2.3-Grid-Search-3\" data-toc-modified-id=\"3.2.3-Grid-Search-3-3.2.3\">3.2.3 Grid Search 3</a></span></li><li><span><a href=\"#3.2.4-Grid-Search-4\" data-toc-modified-id=\"3.2.4-Grid-Search-4-3.2.4\">3.2.4 Grid Search 4</a></span></li><li><span><a href=\"#3.2.5-Grid-Search-5\" data-toc-modified-id=\"3.2.5-Grid-Search-5-3.2.5\">3.2.5 Grid Search 5</a></span></li></ul></li><li><span><a href=\"#3.3-Visualization-of-Scores-at-Best-Parameters\" data-toc-modified-id=\"3.3-Visualization-of-Scores-at-Best-Parameters-3.3\">3.3 Visualization of Scores at Best Parameters</a></span></li><li><span><a href=\"#3.4-Retraining-Best-SVD-on-Full-Trainset\" data-toc-modified-id=\"3.4-Retraining-Best-SVD-on-Full-Trainset-3.4\">3.4 Retraining Best SVD on Full Trainset</a></span></li><li><span><a href=\"#3.5-Visualization-of-Latent-Variables\" data-toc-modified-id=\"3.5-Visualization-of-Latent-Variables-3.5\">3.5 Visualization of Latent Variables</a></span></li></ul></li><li><span><a href=\"#4.-KNNBaseline\" data-toc-modified-id=\"4.-KNNBaseline-4\">4. KNNBaseline</a></span><ul class=\"toc-item\"><li><span><a href=\"#4.1-Number-of-Neighbours-Optimization\" data-toc-modified-id=\"4.1-Number-of-Neighbours-Optimization-4.1\">4.1 Number of Neighbours Optimization</a></span></li><li><span><a href=\"#4.2-Visualization-of-Scores-for-Number-of-Neighbours\" data-toc-modified-id=\"4.2-Visualization-of-Scores-for-Number-of-Neighbours-4.2\">4.2 Visualization of Scores for Number of Neighbours</a></span></li><li><span><a href=\"#4.3-Retraining-Best-KNN-on-Full-Trainset\" data-toc-modified-id=\"4.3-Retraining-Best-KNN-on-Full-Trainset-4.3\">4.3 Retraining Best KNN on Full Trainset</a></span></li></ul></li></ul></div>"
   ]
  },
  {
   "cell_type": "markdown",
   "metadata": {},
   "source": [
    "## 1.1 Reading in Reference Table"
   ]
  },
  {
   "cell_type": "code",
   "execution_count": 82,
   "metadata": {},
   "outputs": [
    {
     "data": {
      "text/html": [
       "<div>\n",
       "<style scoped>\n",
       "    .dataframe tbody tr th:only-of-type {\n",
       "        vertical-align: middle;\n",
       "    }\n",
       "\n",
       "    .dataframe tbody tr th {\n",
       "        vertical-align: top;\n",
       "    }\n",
       "\n",
       "    .dataframe thead th {\n",
       "        text-align: right;\n",
       "    }\n",
       "</style>\n",
       "<table border=\"1\" class=\"dataframe\">\n",
       "  <thead>\n",
       "    <tr style=\"text-align: right;\">\n",
       "      <th></th>\n",
       "      <th>movieId</th>\n",
       "      <th>title</th>\n",
       "      <th>year_of_release</th>\n",
       "      <th>averageRating</th>\n",
       "      <th>numVotes</th>\n",
       "      <th>runtimeMinutes</th>\n",
       "    </tr>\n",
       "  </thead>\n",
       "  <tbody>\n",
       "    <tr>\n",
       "      <th>0</th>\n",
       "      <td>1</td>\n",
       "      <td>Toy Story</td>\n",
       "      <td>1995</td>\n",
       "      <td>8.3</td>\n",
       "      <td>896826.0</td>\n",
       "      <td>81.0</td>\n",
       "    </tr>\n",
       "    <tr>\n",
       "      <th>1</th>\n",
       "      <td>2</td>\n",
       "      <td>Jumanji</td>\n",
       "      <td>1995</td>\n",
       "      <td>7.0</td>\n",
       "      <td>312103.0</td>\n",
       "      <td>104.0</td>\n",
       "    </tr>\n",
       "    <tr>\n",
       "      <th>2</th>\n",
       "      <td>3</td>\n",
       "      <td>Grumpier Old Men</td>\n",
       "      <td>1995</td>\n",
       "      <td>6.7</td>\n",
       "      <td>24447.0</td>\n",
       "      <td>101.0</td>\n",
       "    </tr>\n",
       "    <tr>\n",
       "      <th>3</th>\n",
       "      <td>4</td>\n",
       "      <td>Waiting to Exhale</td>\n",
       "      <td>1995</td>\n",
       "      <td>6.0</td>\n",
       "      <td>9671.0</td>\n",
       "      <td>124.0</td>\n",
       "    </tr>\n",
       "    <tr>\n",
       "      <th>4</th>\n",
       "      <td>5</td>\n",
       "      <td>Father of the Bride Part II</td>\n",
       "      <td>1995</td>\n",
       "      <td>6.1</td>\n",
       "      <td>34885.0</td>\n",
       "      <td>106.0</td>\n",
       "    </tr>\n",
       "    <tr>\n",
       "      <th>...</th>\n",
       "      <td>...</td>\n",
       "      <td>...</td>\n",
       "      <td>...</td>\n",
       "      <td>...</td>\n",
       "      <td>...</td>\n",
       "      <td>...</td>\n",
       "    </tr>\n",
       "    <tr>\n",
       "      <th>27273</th>\n",
       "      <td>131254</td>\n",
       "      <td>Kein Bund für's Leben</td>\n",
       "      <td>2007</td>\n",
       "      <td>5.0</td>\n",
       "      <td>1409.0</td>\n",
       "      <td>85.0</td>\n",
       "    </tr>\n",
       "    <tr>\n",
       "      <th>27274</th>\n",
       "      <td>131256</td>\n",
       "      <td>Feuer, Eis &amp; Dosenbier</td>\n",
       "      <td>2002</td>\n",
       "      <td>3.3</td>\n",
       "      <td>1077.0</td>\n",
       "      <td>83.0</td>\n",
       "    </tr>\n",
       "    <tr>\n",
       "      <th>27275</th>\n",
       "      <td>131258</td>\n",
       "      <td>The Pirates</td>\n",
       "      <td>2014</td>\n",
       "      <td>6.6</td>\n",
       "      <td>2957.0</td>\n",
       "      <td>130.0</td>\n",
       "    </tr>\n",
       "    <tr>\n",
       "      <th>27276</th>\n",
       "      <td>131260</td>\n",
       "      <td>Rentun Ruusu</td>\n",
       "      <td>2001</td>\n",
       "      <td>6.6</td>\n",
       "      <td>1221.0</td>\n",
       "      <td>102.0</td>\n",
       "    </tr>\n",
       "    <tr>\n",
       "      <th>27277</th>\n",
       "      <td>131262</td>\n",
       "      <td>Innocence</td>\n",
       "      <td>2014</td>\n",
       "      <td>4.6</td>\n",
       "      <td>1183.0</td>\n",
       "      <td>96.0</td>\n",
       "    </tr>\n",
       "  </tbody>\n",
       "</table>\n",
       "<p>27278 rows × 6 columns</p>\n",
       "</div>"
      ],
      "text/plain": [
       "       movieId                        title  year_of_release  averageRating  \\\n",
       "0            1                    Toy Story             1995            8.3   \n",
       "1            2                      Jumanji             1995            7.0   \n",
       "2            3             Grumpier Old Men             1995            6.7   \n",
       "3            4            Waiting to Exhale             1995            6.0   \n",
       "4            5  Father of the Bride Part II             1995            6.1   \n",
       "...        ...                          ...              ...            ...   \n",
       "27273   131254        Kein Bund für's Leben             2007            5.0   \n",
       "27274   131256       Feuer, Eis & Dosenbier             2002            3.3   \n",
       "27275   131258                  The Pirates             2014            6.6   \n",
       "27276   131260                 Rentun Ruusu             2001            6.6   \n",
       "27277   131262                    Innocence             2014            4.6   \n",
       "\n",
       "       numVotes  runtimeMinutes  \n",
       "0      896826.0            81.0  \n",
       "1      312103.0           104.0  \n",
       "2       24447.0           101.0  \n",
       "3        9671.0           124.0  \n",
       "4       34885.0           106.0  \n",
       "...         ...             ...  \n",
       "27273    1409.0            85.0  \n",
       "27274    1077.0            83.0  \n",
       "27275    2957.0           130.0  \n",
       "27276    1221.0           102.0  \n",
       "27277    1183.0            96.0  \n",
       "\n",
       "[27278 rows x 6 columns]"
      ]
     },
     "execution_count": 82,
     "metadata": {},
     "output_type": "execute_result"
    }
   ],
   "source": [
    "movies_reference = pd.read_csv('My Datasets/movies_reference.csv')\n",
    "movies_reference"
   ]
  },
  {
   "cell_type": "code",
   "execution_count": 83,
   "metadata": {
    "scrolled": true
   },
   "outputs": [
    {
     "name": "stdout",
     "output_type": "stream",
     "text": [
      "<class 'pandas.core.frame.DataFrame'>\n",
      "RangeIndex: 27278 entries, 0 to 27277\n",
      "Data columns (total 6 columns):\n",
      " #   Column           Non-Null Count  Dtype  \n",
      "---  ------           --------------  -----  \n",
      " 0   movieId          27278 non-null  int64  \n",
      " 1   title            27278 non-null  object \n",
      " 2   year_of_release  27278 non-null  int64  \n",
      " 3   averageRating    27278 non-null  float64\n",
      " 4   numVotes         27278 non-null  float64\n",
      " 5   runtimeMinutes   27278 non-null  float64\n",
      "dtypes: float64(3), int64(2), object(1)\n",
      "memory usage: 1.2+ MB\n"
     ]
    }
   ],
   "source": [
    "movies_reference.info()"
   ]
  },
  {
   "cell_type": "markdown",
   "metadata": {},
   "source": [
    "## 1.2 Reading in Feature Utility Matrix"
   ]
  },
  {
   "cell_type": "code",
   "execution_count": 84,
   "metadata": {},
   "outputs": [],
   "source": [
    "movies_utility = pd.read_csv('My Datasets/movies_utility.csv', index_col=0)"
   ]
  },
  {
   "cell_type": "code",
   "execution_count": 38,
   "metadata": {},
   "outputs": [
    {
     "data": {
      "text/html": [
       "<div>\n",
       "<style scoped>\n",
       "    .dataframe tbody tr th:only-of-type {\n",
       "        vertical-align: middle;\n",
       "    }\n",
       "\n",
       "    .dataframe tbody tr th {\n",
       "        vertical-align: top;\n",
       "    }\n",
       "\n",
       "    .dataframe thead th {\n",
       "        text-align: right;\n",
       "    }\n",
       "</style>\n",
       "<table border=\"1\" class=\"dataframe\">\n",
       "  <thead>\n",
       "    <tr style=\"text-align: right;\">\n",
       "      <th></th>\n",
       "      <th>movieId</th>\n",
       "      <th>Adventure</th>\n",
       "      <th>Animation</th>\n",
       "      <th>Children</th>\n",
       "      <th>Comedy</th>\n",
       "      <th>Fantasy</th>\n",
       "      <th>Romance</th>\n",
       "      <th>Drama</th>\n",
       "      <th>Action</th>\n",
       "      <th>Crime</th>\n",
       "      <th>...</th>\n",
       "      <th>Tito Carpi</th>\n",
       "      <th>Bob Kane</th>\n",
       "      <th>Kuang Ni</th>\n",
       "      <th>Dardano Sacchetti</th>\n",
       "      <th>Jack Kirby</th>\n",
       "      <th>Stan Lee</th>\n",
       "      <th>movie</th>\n",
       "      <th>short_y</th>\n",
       "      <th>tvMovie</th>\n",
       "      <th>video</th>\n",
       "    </tr>\n",
       "  </thead>\n",
       "  <tbody>\n",
       "    <tr>\n",
       "      <th>0</th>\n",
       "      <td>1</td>\n",
       "      <td>1</td>\n",
       "      <td>1</td>\n",
       "      <td>1</td>\n",
       "      <td>1</td>\n",
       "      <td>1</td>\n",
       "      <td>0</td>\n",
       "      <td>0</td>\n",
       "      <td>0</td>\n",
       "      <td>0</td>\n",
       "      <td>...</td>\n",
       "      <td>0</td>\n",
       "      <td>0</td>\n",
       "      <td>0</td>\n",
       "      <td>0</td>\n",
       "      <td>0</td>\n",
       "      <td>0</td>\n",
       "      <td>1</td>\n",
       "      <td>0</td>\n",
       "      <td>0</td>\n",
       "      <td>0</td>\n",
       "    </tr>\n",
       "    <tr>\n",
       "      <th>1</th>\n",
       "      <td>2</td>\n",
       "      <td>1</td>\n",
       "      <td>0</td>\n",
       "      <td>1</td>\n",
       "      <td>0</td>\n",
       "      <td>1</td>\n",
       "      <td>0</td>\n",
       "      <td>0</td>\n",
       "      <td>0</td>\n",
       "      <td>0</td>\n",
       "      <td>...</td>\n",
       "      <td>0</td>\n",
       "      <td>0</td>\n",
       "      <td>0</td>\n",
       "      <td>0</td>\n",
       "      <td>0</td>\n",
       "      <td>0</td>\n",
       "      <td>1</td>\n",
       "      <td>0</td>\n",
       "      <td>0</td>\n",
       "      <td>0</td>\n",
       "    </tr>\n",
       "    <tr>\n",
       "      <th>2</th>\n",
       "      <td>3</td>\n",
       "      <td>0</td>\n",
       "      <td>0</td>\n",
       "      <td>0</td>\n",
       "      <td>1</td>\n",
       "      <td>0</td>\n",
       "      <td>1</td>\n",
       "      <td>0</td>\n",
       "      <td>0</td>\n",
       "      <td>0</td>\n",
       "      <td>...</td>\n",
       "      <td>0</td>\n",
       "      <td>0</td>\n",
       "      <td>0</td>\n",
       "      <td>0</td>\n",
       "      <td>0</td>\n",
       "      <td>0</td>\n",
       "      <td>1</td>\n",
       "      <td>0</td>\n",
       "      <td>0</td>\n",
       "      <td>0</td>\n",
       "    </tr>\n",
       "    <tr>\n",
       "      <th>3</th>\n",
       "      <td>4</td>\n",
       "      <td>0</td>\n",
       "      <td>0</td>\n",
       "      <td>0</td>\n",
       "      <td>1</td>\n",
       "      <td>0</td>\n",
       "      <td>1</td>\n",
       "      <td>1</td>\n",
       "      <td>0</td>\n",
       "      <td>0</td>\n",
       "      <td>...</td>\n",
       "      <td>0</td>\n",
       "      <td>0</td>\n",
       "      <td>0</td>\n",
       "      <td>0</td>\n",
       "      <td>0</td>\n",
       "      <td>0</td>\n",
       "      <td>1</td>\n",
       "      <td>0</td>\n",
       "      <td>0</td>\n",
       "      <td>0</td>\n",
       "    </tr>\n",
       "    <tr>\n",
       "      <th>4</th>\n",
       "      <td>5</td>\n",
       "      <td>0</td>\n",
       "      <td>0</td>\n",
       "      <td>0</td>\n",
       "      <td>1</td>\n",
       "      <td>0</td>\n",
       "      <td>0</td>\n",
       "      <td>0</td>\n",
       "      <td>0</td>\n",
       "      <td>0</td>\n",
       "      <td>...</td>\n",
       "      <td>0</td>\n",
       "      <td>0</td>\n",
       "      <td>0</td>\n",
       "      <td>0</td>\n",
       "      <td>0</td>\n",
       "      <td>0</td>\n",
       "      <td>1</td>\n",
       "      <td>0</td>\n",
       "      <td>0</td>\n",
       "      <td>0</td>\n",
       "    </tr>\n",
       "  </tbody>\n",
       "</table>\n",
       "<p>5 rows × 903 columns</p>\n",
       "</div>"
      ],
      "text/plain": [
       "   movieId  Adventure  Animation  Children  Comedy  Fantasy  Romance  Drama  \\\n",
       "0        1          1          1         1       1        1        0      0   \n",
       "1        2          1          0         1       0        1        0      0   \n",
       "2        3          0          0         0       1        0        1      0   \n",
       "3        4          0          0         0       1        0        1      1   \n",
       "4        5          0          0         0       1        0        0      0   \n",
       "\n",
       "   Action  Crime  ...  Tito Carpi  Bob Kane  Kuang Ni  Dardano Sacchetti  \\\n",
       "0       0      0  ...           0         0         0                  0   \n",
       "1       0      0  ...           0         0         0                  0   \n",
       "2       0      0  ...           0         0         0                  0   \n",
       "3       0      0  ...           0         0         0                  0   \n",
       "4       0      0  ...           0         0         0                  0   \n",
       "\n",
       "   Jack Kirby  Stan Lee  movie  short_y  tvMovie  video  \n",
       "0           0         0      1        0        0      0  \n",
       "1           0         0      1        0        0      0  \n",
       "2           0         0      1        0        0      0  \n",
       "3           0         0      1        0        0      0  \n",
       "4           0         0      1        0        0      0  \n",
       "\n",
       "[5 rows x 903 columns]"
      ]
     },
     "execution_count": 38,
     "metadata": {},
     "output_type": "execute_result"
    }
   ],
   "source": [
    "movies_utility.head()"
   ]
  },
  {
   "cell_type": "markdown",
   "metadata": {},
   "source": [
    "It looks like there is still a column called \"movie\" in the utility matrix, we will be dropping this column. It also seems as though, post-merge, there are two columns denoted as \"short\". We will be dropping the original \"short_x\", which most likely came from the tags, and keeping the secondary \"short_y\". We want the column that came from the IMDB labels, because it denotes a title type of short films. The one that came from the tags is user generated and may also apply to films that are short according to the user, but not necessarily an actual short film. We will also be dropping the movieId, so that the IDs do not affect the results when we apply cosine similarity to the matrix."
   ]
  },
  {
   "cell_type": "code",
   "execution_count": 85,
   "metadata": {
    "scrolled": false
   },
   "outputs": [],
   "source": [
    "# dropping the movie column, the movieId column & the short_x column\n",
    "columns_to_drop_mu = ['movie', 'short_x', 'movieId']\n",
    "movies_utility.drop(columns=columns_to_drop_mu, inplace=True)\n",
    "movies_utility.rename(columns={'short_y':'short'}, inplace=True)"
   ]
  },
  {
   "cell_type": "code",
   "execution_count": 86,
   "metadata": {},
   "outputs": [
    {
     "data": {
      "text/html": [
       "<div>\n",
       "<style scoped>\n",
       "    .dataframe tbody tr th:only-of-type {\n",
       "        vertical-align: middle;\n",
       "    }\n",
       "\n",
       "    .dataframe tbody tr th {\n",
       "        vertical-align: top;\n",
       "    }\n",
       "\n",
       "    .dataframe thead th {\n",
       "        text-align: right;\n",
       "    }\n",
       "</style>\n",
       "<table border=\"1\" class=\"dataframe\">\n",
       "  <thead>\n",
       "    <tr style=\"text-align: right;\">\n",
       "      <th></th>\n",
       "      <th>Adventure</th>\n",
       "      <th>Animation</th>\n",
       "      <th>Children</th>\n",
       "      <th>Comedy</th>\n",
       "      <th>Fantasy</th>\n",
       "      <th>Romance</th>\n",
       "      <th>Drama</th>\n",
       "      <th>Action</th>\n",
       "      <th>Crime</th>\n",
       "      <th>Thriller</th>\n",
       "      <th>...</th>\n",
       "      <th>Mario Amendola</th>\n",
       "      <th>Tito Carpi</th>\n",
       "      <th>Bob Kane</th>\n",
       "      <th>Kuang Ni</th>\n",
       "      <th>Dardano Sacchetti</th>\n",
       "      <th>Jack Kirby</th>\n",
       "      <th>Stan Lee</th>\n",
       "      <th>short</th>\n",
       "      <th>tvMovie</th>\n",
       "      <th>video</th>\n",
       "    </tr>\n",
       "  </thead>\n",
       "  <tbody>\n",
       "    <tr>\n",
       "      <th>0</th>\n",
       "      <td>1</td>\n",
       "      <td>1</td>\n",
       "      <td>1</td>\n",
       "      <td>1</td>\n",
       "      <td>1</td>\n",
       "      <td>0</td>\n",
       "      <td>0</td>\n",
       "      <td>0</td>\n",
       "      <td>0</td>\n",
       "      <td>0</td>\n",
       "      <td>...</td>\n",
       "      <td>0</td>\n",
       "      <td>0</td>\n",
       "      <td>0</td>\n",
       "      <td>0</td>\n",
       "      <td>0</td>\n",
       "      <td>0</td>\n",
       "      <td>0</td>\n",
       "      <td>0</td>\n",
       "      <td>0</td>\n",
       "      <td>0</td>\n",
       "    </tr>\n",
       "    <tr>\n",
       "      <th>1</th>\n",
       "      <td>1</td>\n",
       "      <td>0</td>\n",
       "      <td>1</td>\n",
       "      <td>0</td>\n",
       "      <td>1</td>\n",
       "      <td>0</td>\n",
       "      <td>0</td>\n",
       "      <td>0</td>\n",
       "      <td>0</td>\n",
       "      <td>0</td>\n",
       "      <td>...</td>\n",
       "      <td>0</td>\n",
       "      <td>0</td>\n",
       "      <td>0</td>\n",
       "      <td>0</td>\n",
       "      <td>0</td>\n",
       "      <td>0</td>\n",
       "      <td>0</td>\n",
       "      <td>0</td>\n",
       "      <td>0</td>\n",
       "      <td>0</td>\n",
       "    </tr>\n",
       "    <tr>\n",
       "      <th>2</th>\n",
       "      <td>0</td>\n",
       "      <td>0</td>\n",
       "      <td>0</td>\n",
       "      <td>1</td>\n",
       "      <td>0</td>\n",
       "      <td>1</td>\n",
       "      <td>0</td>\n",
       "      <td>0</td>\n",
       "      <td>0</td>\n",
       "      <td>0</td>\n",
       "      <td>...</td>\n",
       "      <td>0</td>\n",
       "      <td>0</td>\n",
       "      <td>0</td>\n",
       "      <td>0</td>\n",
       "      <td>0</td>\n",
       "      <td>0</td>\n",
       "      <td>0</td>\n",
       "      <td>0</td>\n",
       "      <td>0</td>\n",
       "      <td>0</td>\n",
       "    </tr>\n",
       "    <tr>\n",
       "      <th>3</th>\n",
       "      <td>0</td>\n",
       "      <td>0</td>\n",
       "      <td>0</td>\n",
       "      <td>1</td>\n",
       "      <td>0</td>\n",
       "      <td>1</td>\n",
       "      <td>1</td>\n",
       "      <td>0</td>\n",
       "      <td>0</td>\n",
       "      <td>0</td>\n",
       "      <td>...</td>\n",
       "      <td>0</td>\n",
       "      <td>0</td>\n",
       "      <td>0</td>\n",
       "      <td>0</td>\n",
       "      <td>0</td>\n",
       "      <td>0</td>\n",
       "      <td>0</td>\n",
       "      <td>0</td>\n",
       "      <td>0</td>\n",
       "      <td>0</td>\n",
       "    </tr>\n",
       "    <tr>\n",
       "      <th>4</th>\n",
       "      <td>0</td>\n",
       "      <td>0</td>\n",
       "      <td>0</td>\n",
       "      <td>1</td>\n",
       "      <td>0</td>\n",
       "      <td>0</td>\n",
       "      <td>0</td>\n",
       "      <td>0</td>\n",
       "      <td>0</td>\n",
       "      <td>0</td>\n",
       "      <td>...</td>\n",
       "      <td>0</td>\n",
       "      <td>0</td>\n",
       "      <td>0</td>\n",
       "      <td>0</td>\n",
       "      <td>0</td>\n",
       "      <td>0</td>\n",
       "      <td>0</td>\n",
       "      <td>0</td>\n",
       "      <td>0</td>\n",
       "      <td>0</td>\n",
       "    </tr>\n",
       "  </tbody>\n",
       "</table>\n",
       "<p>5 rows × 900 columns</p>\n",
       "</div>"
      ],
      "text/plain": [
       "   Adventure  Animation  Children  Comedy  Fantasy  Romance  Drama  Action  \\\n",
       "0          1          1         1       1        1        0      0       0   \n",
       "1          1          0         1       0        1        0      0       0   \n",
       "2          0          0         0       1        0        1      0       0   \n",
       "3          0          0         0       1        0        1      1       0   \n",
       "4          0          0         0       1        0        0      0       0   \n",
       "\n",
       "   Crime  Thriller  ...  Mario Amendola  Tito Carpi  Bob Kane  Kuang Ni  \\\n",
       "0      0         0  ...               0           0         0         0   \n",
       "1      0         0  ...               0           0         0         0   \n",
       "2      0         0  ...               0           0         0         0   \n",
       "3      0         0  ...               0           0         0         0   \n",
       "4      0         0  ...               0           0         0         0   \n",
       "\n",
       "   Dardano Sacchetti  Jack Kirby  Stan Lee  short  tvMovie  video  \n",
       "0                  0           0         0      0        0      0  \n",
       "1                  0           0         0      0        0      0  \n",
       "2                  0           0         0      0        0      0  \n",
       "3                  0           0         0      0        0      0  \n",
       "4                  0           0         0      0        0      0  \n",
       "\n",
       "[5 rows x 900 columns]"
      ]
     },
     "execution_count": 86,
     "metadata": {},
     "output_type": "execute_result"
    }
   ],
   "source": [
    "movies_utility.head()"
   ]
  },
  {
   "cell_type": "markdown",
   "metadata": {},
   "source": [
    "## 1.3 Creation of User Utility Matrix"
   ]
  },
  {
   "cell_type": "markdown",
   "metadata": {},
   "source": [
    "For the creation of the user utility matrix, we first have to read in the ratings data from [MovieLens](https://grouplens.org/datasets/movielens/1m/). We will be using the MovieLens 1M dataset so that the models can be optimized on our local machine. The surprise package has methods to create surprise \"datasets\", which are the preferred format for the many models within the package."
   ]
  },
  {
   "cell_type": "code",
   "execution_count": 4,
   "metadata": {},
   "outputs": [],
   "source": [
    "ratings_df = pd.read_csv('Datasets/ml-1m/ratings.dat', sep=\"::\", engine='python', header=None, names=['userId', 'movieId', 'rating', 'timestamp'])"
   ]
  },
  {
   "cell_type": "code",
   "execution_count": 5,
   "metadata": {},
   "outputs": [
    {
     "data": {
      "text/plain": [
       "array([5, 3, 4, 2, 1])"
      ]
     },
     "execution_count": 5,
     "metadata": {},
     "output_type": "execute_result"
    }
   ],
   "source": [
    "ratings_df['rating'].unique()"
   ]
  },
  {
   "cell_type": "code",
   "execution_count": 6,
   "metadata": {},
   "outputs": [
    {
     "data": {
      "text/plain": [
       "userId       False\n",
       "movieId      False\n",
       "rating       False\n",
       "timestamp    False\n",
       "dtype: bool"
      ]
     },
     "execution_count": 6,
     "metadata": {},
     "output_type": "execute_result"
    }
   ],
   "source": [
    "ratings_df.isna().any()"
   ]
  },
  {
   "cell_type": "code",
   "execution_count": 7,
   "metadata": {},
   "outputs": [
    {
     "name": "stdout",
     "output_type": "stream",
     "text": [
      "<class 'pandas.core.frame.DataFrame'>\n",
      "RangeIndex: 1000209 entries, 0 to 1000208\n",
      "Data columns (total 4 columns):\n",
      " #   Column     Non-Null Count    Dtype\n",
      "---  ------     --------------    -----\n",
      " 0   userId     1000209 non-null  int64\n",
      " 1   movieId    1000209 non-null  int64\n",
      " 2   rating     1000209 non-null  int64\n",
      " 3   timestamp  1000209 non-null  int64\n",
      "dtypes: int64(4)\n",
      "memory usage: 30.5 MB\n"
     ]
    }
   ],
   "source": [
    "ratings_df.info()"
   ]
  },
  {
   "cell_type": "markdown",
   "metadata": {},
   "source": [
    "The ratings scale runs from 1-5, with no floats or null values so there is no rounding or datatype changes to be made at this point."
   ]
  },
  {
   "cell_type": "markdown",
   "metadata": {},
   "source": [
    "**Columns in the ratings dataset:**\n",
    "- `userId`: the indiviudal ids for each user, integer.\n",
    "- `movieId`: the individual ids for each movie, integer.\n",
    "- `rating`: the rating that a user assigned to a specific movie, int. The ratings are a whole number between 1 and 5.\n",
    "- `timestamp`: the time the rating was logged, integer. This timestamp is represented as UNIX time, which is the amount of time in seconds that has elapsed since 00:00:00 UTC January 1, 1970. It is possible to convert this column to regular datetime datatype, which will then allow us to pull out the year/month/day that the rating was logged. This may be helpful for assesing how the ratings change from a movie release date to the rating date, as well as how certain users rate films over time or across seasons."
   ]
  },
  {
   "cell_type": "code",
   "execution_count": 14,
   "metadata": {},
   "outputs": [
    {
     "data": {
      "image/png": "[encoded data removed]",
      "text/plain": [
       "<Figure size 432x288 with 1 Axes>"
      ]
     },
     "metadata": {
      "needs_background": "light"
     },
     "output_type": "display_data"
    }
   ],
   "source": [
    "plt.figure()\n",
    "plt.hist(ratings_df['rating'], bins=5)\n",
    "plt.title('Ratings distribution in MovieLens 1M Dataset', fontsize=18, fontweight=700)\n",
    "plt.xlabel('Frequency', fontsize=15)\n",
    "plt.ylabel('Rating', fontsize=15)\n",
    "plt.xticks(range(1,6))\n",
    "plt.show()"
   ]
  },
  {
   "cell_type": "markdown",
   "metadata": {},
   "source": [
    "It looks like the distribution has a slight left-skew, with the majority of ratings over 3. This distribution is not unsurprising, but also not as drastic as some that we've seen. A threshold of 4 would probably be appropriate to weed out unpopular films when we are in the recommending stage."
   ]
  },
  {
   "cell_type": "markdown",
   "metadata": {},
   "source": [
    "To create a surprise dataset, the package can be loaded from a dataframe, but it requires a \"reader\" to interpet the scale. This will be easy enough for us, because the rating scale is a simple 1-5. Once loaded, the surprise dataset can be used to create training and test sets for the models."
   ]
  },
  {
   "cell_type": "code",
   "execution_count": 7,
   "metadata": {},
   "outputs": [],
   "source": [
    "reader = Reader(rating_scale=(1,5))"
   ]
  },
  {
   "cell_type": "code",
   "execution_count": 8,
   "metadata": {},
   "outputs": [],
   "source": [
    "ratings_utility = Dataset.load_from_df(ratings_df[['userId', 'movieId', 'rating']], reader=reader)"
   ]
  },
  {
   "cell_type": "code",
   "execution_count": 9,
   "metadata": {},
   "outputs": [
    {
     "data": {
      "text/plain": [
       "<surprise.dataset.DatasetAutoFolds at 0x139e80250>"
      ]
     },
     "execution_count": 9,
     "metadata": {},
     "output_type": "execute_result"
    }
   ],
   "source": [
    "ratings_utility"
   ]
  },
  {
   "cell_type": "markdown",
   "metadata": {},
   "source": [
    "# 2. Cosine Similarity: Item-Item Content Filtering"
   ]
  },
  {
   "cell_type": "markdown",
   "metadata": {},
   "source": [
    "To recommend movies that are similar to others, like other systems style of \"Because you watched...\", we need to score movies on how similar they are to each other. We will be choosing the cosine similarity as our metric, which measures how similar to vectors are to each other. It does so by calculating the cosine of the angle between the two vectors, which is why we had to have the movie-feature utility matrix in such a particular format. This format has each row pertain to movie and each column pertain to a particular feature of that movie, allowing for each row to be a non-zero vector that can then be judged against another for levels of similarity.\n",
    "Cosine similarity is calculated as:\n",
    "\n",
    "\n",
    "$$\\frac{a \\cdot b}{||a||\\cdot ||b||}$$\n",
    "\n",
    "\n",
    "Which is the dot product of the two vectors over the length of each vector, multiplied. Thankfully sklearn has a method for this as well, so it is one simple line of code."
   ]
  },
  {
   "cell_type": "code",
   "execution_count": 87,
   "metadata": {},
   "outputs": [],
   "source": [
    "# calculate cosine similarity\n",
    "movie_similarities = cosine_similarity(movies_utility, dense_output=False)"
   ]
  },
  {
   "cell_type": "code",
   "execution_count": 88,
   "metadata": {},
   "outputs": [
    {
     "data": {
      "text/plain": [
       "(27278, 27278)"
      ]
     },
     "execution_count": 88,
     "metadata": {},
     "output_type": "execute_result"
    }
   ],
   "source": [
    "movie_similarities.shape"
   ]
  },
  {
   "cell_type": "markdown",
   "metadata": {},
   "source": [
    "The output of this method is a matrix of equal rows and columns where each movie can be judged against every other movie in the dataset for level of similarity. To demonstrate, we can find a film to judge whether the feature matrix was properly set up for similarity calculations.\n",
    "We will be going forward with The Sound of Music. To search movies within the similarities matrix, we must search by their index number, not by their movieId. The reference table has had the index reset to match that of the similarities matrix, so we can search by movie title and use the index number of that row to then search against the similarities matrix."
   ]
  },
  {
   "cell_type": "code",
   "execution_count": 94,
   "metadata": {},
   "outputs": [
    {
     "data": {
      "text/html": [
       "<div>\n",
       "<style scoped>\n",
       "    .dataframe tbody tr th:only-of-type {\n",
       "        vertical-align: middle;\n",
       "    }\n",
       "\n",
       "    .dataframe tbody tr th {\n",
       "        vertical-align: top;\n",
       "    }\n",
       "\n",
       "    .dataframe thead th {\n",
       "        text-align: right;\n",
       "    }\n",
       "</style>\n",
       "<table border=\"1\" class=\"dataframe\">\n",
       "  <thead>\n",
       "    <tr style=\"text-align: right;\">\n",
       "      <th></th>\n",
       "      <th>movieId</th>\n",
       "      <th>title</th>\n",
       "      <th>year_of_release</th>\n",
       "      <th>averageRating</th>\n",
       "      <th>numVotes</th>\n",
       "      <th>runtimeMinutes</th>\n",
       "    </tr>\n",
       "  </thead>\n",
       "  <tbody>\n",
       "    <tr>\n",
       "      <th>1016</th>\n",
       "      <td>1035</td>\n",
       "      <td>Sound of Music, The</td>\n",
       "      <td>1965</td>\n",
       "      <td>8.0</td>\n",
       "      <td>208930.0</td>\n",
       "      <td>172.0</td>\n",
       "    </tr>\n",
       "    <tr>\n",
       "      <th>9287</th>\n",
       "      <td>27334</td>\n",
       "      <td>Sound and Fury</td>\n",
       "      <td>2000</td>\n",
       "      <td>7.9</td>\n",
       "      <td>946.0</td>\n",
       "      <td>80.0</td>\n",
       "    </tr>\n",
       "    <tr>\n",
       "      <th>9397</th>\n",
       "      <td>27618</td>\n",
       "      <td>Sound of Thunder, A</td>\n",
       "      <td>2005</td>\n",
       "      <td>4.3</td>\n",
       "      <td>18926.0</td>\n",
       "      <td>110.0</td>\n",
       "    </tr>\n",
       "    <tr>\n",
       "      <th>9696</th>\n",
       "      <td>31413</td>\n",
       "      <td>White Sound, The (Das weiße Rauschen)</td>\n",
       "      <td>2001</td>\n",
       "      <td>7.1</td>\n",
       "      <td>3159.0</td>\n",
       "      <td>109.0</td>\n",
       "    </tr>\n",
       "    <tr>\n",
       "      <th>10473</th>\n",
       "      <td>38473</td>\n",
       "      <td>Touch the Sound: A Sound Journey with Evelyn G...</td>\n",
       "      <td>2004</td>\n",
       "      <td>7.3</td>\n",
       "      <td>591.0</td>\n",
       "      <td>99.0</td>\n",
       "    </tr>\n",
       "    <tr>\n",
       "      <th>10630</th>\n",
       "      <td>41226</td>\n",
       "      <td>Sounder</td>\n",
       "      <td>1972</td>\n",
       "      <td>7.6</td>\n",
       "      <td>3692.0</td>\n",
       "      <td>105.0</td>\n",
       "    </tr>\n",
       "    <tr>\n",
       "      <th>11084</th>\n",
       "      <td>46098</td>\n",
       "      <td>Crossing the Bridge: The Sound of Istanbul</td>\n",
       "      <td>2005</td>\n",
       "      <td>7.9</td>\n",
       "      <td>6119.0</td>\n",
       "      <td>90.0</td>\n",
       "    </tr>\n",
       "    <tr>\n",
       "      <th>12466</th>\n",
       "      <td>58136</td>\n",
       "      <td>Great World of Sound</td>\n",
       "      <td>2007</td>\n",
       "      <td>6.7</td>\n",
       "      <td>1113.0</td>\n",
       "      <td>106.0</td>\n",
       "    </tr>\n",
       "    <tr>\n",
       "      <th>13026</th>\n",
       "      <td>62208</td>\n",
       "      <td>Sound of the Mountain (Thunder of the Mountain...</td>\n",
       "      <td>1954</td>\n",
       "      <td>7.8</td>\n",
       "      <td>1579.0</td>\n",
       "      <td>95.0</td>\n",
       "    </tr>\n",
       "    <tr>\n",
       "      <th>14362</th>\n",
       "      <td>71942</td>\n",
       "      <td>Sound Barrier, The</td>\n",
       "      <td>1952</td>\n",
       "      <td>6.8</td>\n",
       "      <td>1740.0</td>\n",
       "      <td>118.0</td>\n",
       "    </tr>\n",
       "    <tr>\n",
       "      <th>16910</th>\n",
       "      <td>85542</td>\n",
       "      <td>Map of the Sounds of Tokyo</td>\n",
       "      <td>2009</td>\n",
       "      <td>6.0</td>\n",
       "      <td>2235.0</td>\n",
       "      <td>109.0</td>\n",
       "    </tr>\n",
       "    <tr>\n",
       "      <th>18509</th>\n",
       "      <td>92200</td>\n",
       "      <td>Sound and the Fury, The</td>\n",
       "      <td>1959</td>\n",
       "      <td>6.2</td>\n",
       "      <td>793.0</td>\n",
       "      <td>110.0</td>\n",
       "    </tr>\n",
       "    <tr>\n",
       "      <th>19051</th>\n",
       "      <td>94799</td>\n",
       "      <td>Sound of My Voice</td>\n",
       "      <td>2011</td>\n",
       "      <td>6.6</td>\n",
       "      <td>20976.0</td>\n",
       "      <td>87.0</td>\n",
       "    </tr>\n",
       "    <tr>\n",
       "      <th>19081</th>\n",
       "      <td>94939</td>\n",
       "      <td>Sound of Noise</td>\n",
       "      <td>2010</td>\n",
       "      <td>7.2</td>\n",
       "      <td>9006.0</td>\n",
       "      <td>102.0</td>\n",
       "    </tr>\n",
       "    <tr>\n",
       "      <th>19085</th>\n",
       "      <td>94951</td>\n",
       "      <td>Dickson Experimental Sound Film</td>\n",
       "      <td>1894</td>\n",
       "      <td>6.6</td>\n",
       "      <td>3115.0</td>\n",
       "      <td>97.0</td>\n",
       "    </tr>\n",
       "    <tr>\n",
       "      <th>19704</th>\n",
       "      <td>97526</td>\n",
       "      <td>Sound of Fury, The</td>\n",
       "      <td>1950</td>\n",
       "      <td>7.2</td>\n",
       "      <td>1431.0</td>\n",
       "      <td>91.0</td>\n",
       "    </tr>\n",
       "    <tr>\n",
       "      <th>19717</th>\n",
       "      <td>97597</td>\n",
       "      <td>Clink of Ice, The (a.k.a.: Sound of Ice Cubes,...</td>\n",
       "      <td>2010</td>\n",
       "      <td>6.3</td>\n",
       "      <td>2311.0</td>\n",
       "      <td>87.0</td>\n",
       "    </tr>\n",
       "    <tr>\n",
       "      <th>20083</th>\n",
       "      <td>98963</td>\n",
       "      <td>Neighbouring Sounds (O som ao redor)</td>\n",
       "      <td>2012</td>\n",
       "      <td>7.2</td>\n",
       "      <td>7413.0</td>\n",
       "      <td>131.0</td>\n",
       "    </tr>\n",
       "    <tr>\n",
       "      <th>20622</th>\n",
       "      <td>101106</td>\n",
       "      <td>Sound City</td>\n",
       "      <td>2013</td>\n",
       "      <td>7.8</td>\n",
       "      <td>12267.0</td>\n",
       "      <td>107.0</td>\n",
       "    </tr>\n",
       "    <tr>\n",
       "      <th>21119</th>\n",
       "      <td>102991</td>\n",
       "      <td>Berberian Sound Studio</td>\n",
       "      <td>2012</td>\n",
       "      <td>6.2</td>\n",
       "      <td>14821.0</td>\n",
       "      <td>92.0</td>\n",
       "    </tr>\n",
       "    <tr>\n",
       "      <th>21221</th>\n",
       "      <td>103330</td>\n",
       "      <td>Sound of Insects, The</td>\n",
       "      <td>2009</td>\n",
       "      <td>7.1</td>\n",
       "      <td>513.0</td>\n",
       "      <td>87.0</td>\n",
       "    </tr>\n",
       "    <tr>\n",
       "      <th>22465</th>\n",
       "      <td>107754</td>\n",
       "      <td>Soundbreaker</td>\n",
       "      <td>2012</td>\n",
       "      <td>7.3</td>\n",
       "      <td>94.0</td>\n",
       "      <td>86.0</td>\n",
       "    </tr>\n",
       "    <tr>\n",
       "      <th>23624</th>\n",
       "      <td>112432</td>\n",
       "      <td>Sound of Redemption: The Frank Morgan Story</td>\n",
       "      <td>2014</td>\n",
       "      <td>6.8</td>\n",
       "      <td>39.0</td>\n",
       "      <td>84.0</td>\n",
       "    </tr>\n",
       "    <tr>\n",
       "      <th>24516</th>\n",
       "      <td>116082</td>\n",
       "      <td>British Sounds</td>\n",
       "      <td>1970</td>\n",
       "      <td>6.1</td>\n",
       "      <td>463.0</td>\n",
       "      <td>52.0</td>\n",
       "    </tr>\n",
       "    <tr>\n",
       "      <th>26417</th>\n",
       "      <td>126973</td>\n",
       "      <td>Soundtracker</td>\n",
       "      <td>2010</td>\n",
       "      <td>6.7</td>\n",
       "      <td>26.0</td>\n",
       "      <td>82.0</td>\n",
       "    </tr>\n",
       "  </tbody>\n",
       "</table>\n",
       "</div>"
      ],
      "text/plain": [
       "       movieId                                              title  \\\n",
       "1016      1035                                Sound of Music, The   \n",
       "9287     27334                                     Sound and Fury   \n",
       "9397     27618                                Sound of Thunder, A   \n",
       "9696     31413              White Sound, The (Das weiße Rauschen)   \n",
       "10473    38473  Touch the Sound: A Sound Journey with Evelyn G...   \n",
       "10630    41226                                            Sounder   \n",
       "11084    46098         Crossing the Bridge: The Sound of Istanbul   \n",
       "12466    58136                               Great World of Sound   \n",
       "13026    62208  Sound of the Mountain (Thunder of the Mountain...   \n",
       "14362    71942                                 Sound Barrier, The   \n",
       "16910    85542                         Map of the Sounds of Tokyo   \n",
       "18509    92200                            Sound and the Fury, The   \n",
       "19051    94799                                  Sound of My Voice   \n",
       "19081    94939                                     Sound of Noise   \n",
       "19085    94951                    Dickson Experimental Sound Film   \n",
       "19704    97526                                 Sound of Fury, The   \n",
       "19717    97597  Clink of Ice, The (a.k.a.: Sound of Ice Cubes,...   \n",
       "20083    98963               Neighbouring Sounds (O som ao redor)   \n",
       "20622   101106                                         Sound City   \n",
       "21119   102991                             Berberian Sound Studio   \n",
       "21221   103330                              Sound of Insects, The   \n",
       "22465   107754                                       Soundbreaker   \n",
       "23624   112432        Sound of Redemption: The Frank Morgan Story   \n",
       "24516   116082                                     British Sounds   \n",
       "26417   126973                                       Soundtracker   \n",
       "\n",
       "       year_of_release  averageRating  numVotes  runtimeMinutes  \n",
       "1016              1965            8.0  208930.0           172.0  \n",
       "9287              2000            7.9     946.0            80.0  \n",
       "9397              2005            4.3   18926.0           110.0  \n",
       "9696              2001            7.1    3159.0           109.0  \n",
       "10473             2004            7.3     591.0            99.0  \n",
       "10630             1972            7.6    3692.0           105.0  \n",
       "11084             2005            7.9    6119.0            90.0  \n",
       "12466             2007            6.7    1113.0           106.0  \n",
       "13026             1954            7.8    1579.0            95.0  \n",
       "14362             1952            6.8    1740.0           118.0  \n",
       "16910             2009            6.0    2235.0           109.0  \n",
       "18509             1959            6.2     793.0           110.0  \n",
       "19051             2011            6.6   20976.0            87.0  \n",
       "19081             2010            7.2    9006.0           102.0  \n",
       "19085             1894            6.6    3115.0            97.0  \n",
       "19704             1950            7.2    1431.0            91.0  \n",
       "19717             2010            6.3    2311.0            87.0  \n",
       "20083             2012            7.2    7413.0           131.0  \n",
       "20622             2013            7.8   12267.0           107.0  \n",
       "21119             2012            6.2   14821.0            92.0  \n",
       "21221             2009            7.1     513.0            87.0  \n",
       "22465             2012            7.3      94.0            86.0  \n",
       "23624             2014            6.8      39.0            84.0  \n",
       "24516             1970            6.1     463.0            52.0  \n",
       "26417             2010            6.7      26.0            82.0  "
      ]
     },
     "execution_count": 94,
     "metadata": {},
     "output_type": "execute_result"
    }
   ],
   "source": [
    "# searching by keyword in the titles\n",
    "movies_reference[movies_reference['title'].str.contains(\"Sound\")]"
   ]
  },
  {
   "cell_type": "code",
   "execution_count": 95,
   "metadata": {},
   "outputs": [],
   "source": [
    "# setting movie index to the exact title reference for the sound of music\n",
    "movie_index = (movies_reference[movies_reference['title'] == 'Sound of Music, The'].index)"
   ]
  },
  {
   "cell_type": "markdown",
   "metadata": {},
   "source": [
    "For visibilities sake, we will set up the results of the search into a dataframe. Because the output of the similarites matrix could have multiple dimensions of length 1 and throw an error, we can use numpy.squeeze() to get rid of them."
   ]
  },
  {
   "cell_type": "code",
   "execution_count": 96,
   "metadata": {},
   "outputs": [],
   "source": [
    "# creation of similarity dataframe\n",
    "similarity_df = pd.DataFrame({'movie':movies_reference['title'],\n",
    "                              'year_of_release':movies_reference['year_of_release'],\n",
    "                             'similarity': np.array(movie_similarities[movie_index, :].squeeze())})"
   ]
  },
  {
   "cell_type": "code",
   "execution_count": 97,
   "metadata": {},
   "outputs": [
    {
     "data": {
      "text/html": [
       "<div>\n",
       "<style scoped>\n",
       "    .dataframe tbody tr th:only-of-type {\n",
       "        vertical-align: middle;\n",
       "    }\n",
       "\n",
       "    .dataframe tbody tr th {\n",
       "        vertical-align: top;\n",
       "    }\n",
       "\n",
       "    .dataframe thead th {\n",
       "        text-align: right;\n",
       "    }\n",
       "</style>\n",
       "<table border=\"1\" class=\"dataframe\">\n",
       "  <thead>\n",
       "    <tr style=\"text-align: right;\">\n",
       "      <th></th>\n",
       "      <th>movie</th>\n",
       "      <th>year_of_release</th>\n",
       "      <th>similarity</th>\n",
       "    </tr>\n",
       "  </thead>\n",
       "  <tbody>\n",
       "    <tr>\n",
       "      <th>1016</th>\n",
       "      <td>Sound of Music, The</td>\n",
       "      <td>1965</td>\n",
       "      <td>1.000000</td>\n",
       "    </tr>\n",
       "    <tr>\n",
       "      <th>1863</th>\n",
       "      <td>West Side Story</td>\n",
       "      <td>1961</td>\n",
       "      <td>0.476250</td>\n",
       "    </tr>\n",
       "    <tr>\n",
       "      <th>897</th>\n",
       "      <td>My Fair Lady</td>\n",
       "      <td>1964</td>\n",
       "      <td>0.437500</td>\n",
       "    </tr>\n",
       "    <tr>\n",
       "      <th>882</th>\n",
       "      <td>Singin' in the Rain</td>\n",
       "      <td>1952</td>\n",
       "      <td>0.405465</td>\n",
       "    </tr>\n",
       "    <tr>\n",
       "      <th>1244</th>\n",
       "      <td>Patton</td>\n",
       "      <td>1970</td>\n",
       "      <td>0.396928</td>\n",
       "    </tr>\n",
       "    <tr>\n",
       "      <th>1179</th>\n",
       "      <td>Lawrence of Arabia</td>\n",
       "      <td>1962</td>\n",
       "      <td>0.388449</td>\n",
       "    </tr>\n",
       "    <tr>\n",
       "      <th>1254</th>\n",
       "      <td>Fantasia</td>\n",
       "      <td>1940</td>\n",
       "      <td>0.385758</td>\n",
       "    </tr>\n",
       "    <tr>\n",
       "      <th>1199</th>\n",
       "      <td>Amadeus</td>\n",
       "      <td>1984</td>\n",
       "      <td>0.381000</td>\n",
       "    </tr>\n",
       "    <tr>\n",
       "      <th>7390</th>\n",
       "      <td>Oklahoma!</td>\n",
       "      <td>1955</td>\n",
       "      <td>0.377964</td>\n",
       "    </tr>\n",
       "    <tr>\n",
       "      <th>2855</th>\n",
       "      <td>South Pacific</td>\n",
       "      <td>1958</td>\n",
       "      <td>0.377964</td>\n",
       "    </tr>\n",
       "    <tr>\n",
       "      <th>7135</th>\n",
       "      <td>Chitty Chitty Bang Bang</td>\n",
       "      <td>1968</td>\n",
       "      <td>0.375000</td>\n",
       "    </tr>\n",
       "    <tr>\n",
       "      <th>1222</th>\n",
       "      <td>Bridge on the River Kwai, The</td>\n",
       "      <td>1957</td>\n",
       "      <td>0.367484</td>\n",
       "    </tr>\n",
       "    <tr>\n",
       "      <th>936</th>\n",
       "      <td>It's a Wonderful Life</td>\n",
       "      <td>1946</td>\n",
       "      <td>0.358569</td>\n",
       "    </tr>\n",
       "    <tr>\n",
       "      <th>1349</th>\n",
       "      <td>Grease</td>\n",
       "      <td>1978</td>\n",
       "      <td>0.355023</td>\n",
       "    </tr>\n",
       "    <tr>\n",
       "      <th>590</th>\n",
       "      <td>Pinocchio</td>\n",
       "      <td>1940</td>\n",
       "      <td>0.353553</td>\n",
       "    </tr>\n",
       "  </tbody>\n",
       "</table>\n",
       "</div>"
      ],
      "text/plain": [
       "                              movie  year_of_release  similarity\n",
       "1016            Sound of Music, The             1965    1.000000\n",
       "1863                West Side Story             1961    0.476250\n",
       "897                    My Fair Lady             1964    0.437500\n",
       "882             Singin' in the Rain             1952    0.405465\n",
       "1244                         Patton             1970    0.396928\n",
       "1179             Lawrence of Arabia             1962    0.388449\n",
       "1254                       Fantasia             1940    0.385758\n",
       "1199                        Amadeus             1984    0.381000\n",
       "7390                      Oklahoma!             1955    0.377964\n",
       "2855                  South Pacific             1958    0.377964\n",
       "7135        Chitty Chitty Bang Bang             1968    0.375000\n",
       "1222  Bridge on the River Kwai, The             1957    0.367484\n",
       "936           It's a Wonderful Life             1946    0.358569\n",
       "1349                         Grease             1978    0.355023\n",
       "590                       Pinocchio             1940    0.353553"
      ]
     },
     "execution_count": 97,
     "metadata": {},
     "output_type": "execute_result"
    }
   ],
   "source": [
    "# sort dataframe by similarity and only show top 15\n",
    "similarity_df.sort_values(by='similarity', ascending=False).head(15)"
   ]
  },
  {
   "cell_type": "markdown",
   "metadata": {},
   "source": [
    "We can see that the cosine similarity scoring was successful because this top 15 films that are similar to the sound of music make a lot of sense. The output shows a lot of musicals as well as films from the 50s and 60s. We will then use np.save() to save the matrix for use in the final workbook."
   ]
  },
  {
   "cell_type": "code",
   "execution_count": 98,
   "metadata": {},
   "outputs": [],
   "source": [
    "# saving file for move to next workbook\n",
    "np.save('movie_similarities.npy', movie_similarities)"
   ]
  },
  {
   "cell_type": "markdown",
   "metadata": {},
   "source": [
    "# 3. FunkSVD"
   ]
  },
  {
   "cell_type": "markdown",
   "metadata": {},
   "source": [
    "[Funk SVD](https://surprise.readthedocs.io/en/stable/matrix_factorization.html#surprise.prediction_algorithms.matrix_factorization.SVD) is a method of matrix factorization popularized by Simon Funk, the SVD meaning Singular Value Decomposition. Matrix factorization, in general, involves decomposing the original rating matrix of users and movies into two smaller matrices (U and M) so that, when the dot product is taken, you arrive back at the original matrix. Optimization of this method involves finding the lowest value of error, or minimas. The lowest value of error implying that the values of ${U \\cdot M}$ are as close to the values of the original matrix as possible. In an ideal situation, you would be able to find values for the decomposed matrices that would almost match the original matrix perfectly, the global minima. However, this is not always (or often) possible, so we will settle for finding \"local minimas\", or reasonably small levels of error metrics. Because SVD is a singular value decomposition, it means that each individual entry in the matrix is optimized one at a time. However, the Funk SVD method uses Stochastic Gradient Descent, meaning that the entries to optimize are chosen at random and not all are optimized on each round (or epoch). This means that this method runs much faster on large datasets, because not all error terms are calculated each epoch, which depending on the size of the dataset, could be millions of terms."
   ]
  },
  {
   "cell_type": "markdown",
   "metadata": {},
   "source": [
    "Because recommender systems don't have as stringent of rules about data leakage as some other forms of machine learning, we don't necessarily have to have separate validation and test sets. For checking the initial number of variables (or factors) that we will want to use, we can do a basic train/test split. We will train the model on the train set and then test the predictions on the test set."
   ]
  },
  {
   "cell_type": "code",
   "execution_count": 10,
   "metadata": {},
   "outputs": [],
   "source": [
    "# The surprise package doesn't allow you to test on the trainset we built\n",
    "ratings_train_dataset, ratings_test_dataset = train_test_split(ratings_utility, test_size=0.3)"
   ]
  },
  {
   "cell_type": "markdown",
   "metadata": {},
   "source": [
    "## 3.1 Initial Check for Ideal Number of Factors"
   ]
  },
  {
   "cell_type": "markdown",
   "metadata": {},
   "source": [
    "For the first round of hyperparameter optimization, we will do a simple for loop, going through a range of number of factors (which indicates the size of the decomposed matrices) and calculating a range of error terms."
   ]
  },
  {
   "cell_type": "code",
   "execution_count": 41,
   "metadata": {},
   "outputs": [
    {
     "name": "stdout",
     "output_type": "stream",
     "text": [
      "Fitting #factors = 10\n",
      "Fitting #factors = 20\n",
      "Fitting #factors = 30\n",
      "Fitting #factors = 40\n",
      "Fitting #factors = 50\n",
      "Fitting #factors = 60\n",
      "Fitting #factors = 70\n",
      "Fitting #factors = 80\n",
      "Fitting #factors = 90\n",
      "Fitting #factors = 100\n",
      "Fitting #factors = 110\n",
      "Fitting #factors = 120\n",
      "Fitting #factors = 130\n",
      "Fitting #factors = 140\n",
      "Fitting #factors = 150\n",
      "Fitting #factors = 160\n",
      "Fitting #factors = 170\n",
      "Fitting #factors = 180\n",
      "Fitting #factors = 190\n",
      "Fitting #factors = 200\n",
      "CPU times: user 1h 58s, sys: 24.8 s, total: 1h 1min 23s\n",
      "Wall time: 1h 3min 38s\n"
     ]
    }
   ],
   "source": [
    "%%time\n",
    "\n",
    "# error metrics\n",
    "FCP_scores = []\n",
    "RMSE_scores = []\n",
    "MAE_scores = []\n",
    "MSE_scores = []\n",
    "\n",
    "N_Factors_list = [10*n for n in range(1,21)]\n",
    "    \n",
    "for num in N_Factors_list:    \n",
    "    print(f'Fitting #factors = {num}')\n",
    "    ratings_FunkSVD = FunkSVD(n_factors=num, \n",
    "                           n_epochs=100, \n",
    "                           lr_all=0.1,    # Learning rate for each epoch\n",
    "                           biased=False,  # Store all latent information in the matrices\n",
    "                           verbose=0)\n",
    "\n",
    "    ratings_FunkSVD.fit(ratings_train_dataset)\n",
    "    predictions = ratings_FunkSVD.test(ratings_test_dataset)\n",
    "    FCP_scores.append(accuracy.fcp(predictions, verbose=False))\n",
    "    RMSE_scores.append(accuracy.rmse(predictions, verbose=False))\n",
    "    MAE_scores.append(accuracy.mae(predictions, verbose=False))\n",
    "    MSE_scores.append(accuracy.mse(predictions, verbose=False))"
   ]
  },
  {
   "cell_type": "code",
   "execution_count": 42,
   "metadata": {},
   "outputs": [
    {
     "data": {
      "image/png": "[encoded data removed]",
      "text/plain": [
       "<Figure size 720x576 with 4 Axes>"
      ]
     },
     "metadata": {
      "needs_background": "light"
     },
     "output_type": "display_data"
    }
   ],
   "source": [
    "plt.subplots(2,2, figsize=(10,8))\n",
    "plottables = [FCP_scores, RMSE_scores, MAE_scores, MSE_scores]\n",
    "plottables_titles = ['FCP Score', 'RMSE', 'MAE', 'MSE']\n",
    "\n",
    "for i, metric in enumerate(plottables):\n",
    "    plt.subplot(2,2,i+1)\n",
    "    plt.plot(N_Factors_list, metric, color='firebrick', marker=\"*\")\n",
    "    plt.title(f'{plottables_titles[i]}', fontsize=15)\n",
    "\n",
    "plt.tight_layout()\n",
    "plt.suptitle('Evaluation Metrics vs Number of Latent Variables', y=1.04, fontsize=18, fontweight=800)\n",
    "plt.show()"
   ]
  },
  {
   "cell_type": "markdown",
   "metadata": {},
   "source": [
    "The error terms used are as follows:\n",
    "- [FCP Score](https://rstudio-pubs-static.s3.amazonaws.com/208557_98ec34a956004fd081aa65e625bdf135.html): Fraction of Concordant Pairs. This metric judges the percentage of predicted ratings pairs that were in the correct order.\n",
    "- [MAE](https://rstudio-pubs-static.s3.amazonaws.com/208557_98ec34a956004fd081aa65e625bdf135.html): Mean Absolute Error. Summation of the absolute value of the difference between the prediction and the rating, divided by the number of ratings.\n",
    "- [MSE](https://rstudio-pubs-static.s3.amazonaws.com/208557_98ec34a956004fd081aa65e625bdf135.html): Mean Square Error. Penalizes large errors over small errors, meaning it would be more erroneous to have 1 out of 3 ratings be off by 4 and 2 be off by none than for all 3 ratings to be off by 1.\n",
    "- RMSE: Root Mean Square Error. The square root of the MSE."
   ]
  },
  {
   "cell_type": "markdown",
   "metadata": {},
   "source": [
    "It seems as though all of the error terms flow together and show that there is a significant loss of accuracy past 75 variables. We will then search within the lower ranges and see where the optimal values are for the other hyperparameters."
   ]
  },
  {
   "cell_type": "markdown",
   "metadata": {},
   "source": [
    "## 3.2 Grid Search for Hyperparameter Optimization"
   ]
  },
  {
   "cell_type": "markdown",
   "metadata": {},
   "source": [
    "For the next stages of optimization, we will be running some grid searches. These grid searches allow for quick optimization and will return the best options according to whatever error metrics are specified. The Grid Search also uses cross validation to judge the accuracy, so we have to input a different style of dataset as before. We will be using the surprise dataset function to do so. Even though it is unnecessary, for the sake of meticulousness, we will be doing the grid search on a validation set instead of the whole dataset.\n",
    "\n",
    "To separate off a random sample of a surprise dataset, the surprise package has a section of [code](https://surprise.readthedocs.io/en/stable/FAQ.html) supplied."
   ]
  },
  {
   "cell_type": "code",
   "execution_count": 6,
   "metadata": {},
   "outputs": [],
   "source": [
    "ratings_data = Dataset.load_from_df(ratings_df[['userId', 'movieId', 'rating']], reader=reader)"
   ]
  },
  {
   "cell_type": "code",
   "execution_count": 7,
   "metadata": {},
   "outputs": [],
   "source": [
    "# help from:\n",
    "# https://surprise.readthedocs.io/en/stable/FAQ.html\n",
    "\n",
    "# take out raw ratings from the dataset\n",
    "raw_ratings = ratings_data.raw_ratings\n",
    "\n",
    "# shuffle them\n",
    "random.shuffle(raw_ratings)\n",
    "\n",
    "# instantiate the index threshold\n",
    "threshold = int(0.8* len(raw_ratings))\n",
    "\n",
    "# separate off 80% for the validation and test sets\n",
    "trainset_raw_ratings = raw_ratings[:threshold]\n",
    "testset_raw_ratings = raw_ratings[threshold:]"
   ]
  },
  {
   "cell_type": "code",
   "execution_count": 8,
   "metadata": {},
   "outputs": [],
   "source": [
    "# reconstruct the datasets from the raw ratings\n",
    "ratings_data.raw_ratings = trainset_raw_ratings\n",
    "testset_data = ratings_data.construct_testset(testset_raw_ratings)"
   ]
  },
  {
   "cell_type": "markdown",
   "metadata": {},
   "source": [
    "We are now ready for the grid searches. We will be using RMSE, MAE and FCP as metrics to judge optimal parameter values. The parameters chosen at the moment are the number of factors, the number of epochs and the learning rate."
   ]
  },
  {
   "cell_type": "markdown",
   "metadata": {},
   "source": [
    "### 3.2.1 Grid Search 1"
   ]
  },
  {
   "cell_type": "code",
   "execution_count": 77,
   "metadata": {},
   "outputs": [
    {
     "name": "stderr",
     "output_type": "stream",
     "text": [
      "[Parallel(n_jobs=-2)]: Using backend LokyBackend with 3 concurrent workers.\n",
      "[Parallel(n_jobs=-2)]: Done  35 tasks      | elapsed:  4.3min\n"
     ]
    },
    {
     "name": "stdout",
     "output_type": "stream",
     "text": [
      "CPU times: user 1min 26s, sys: 5.58 s, total: 1min 32s\n",
      "Wall time: 13min 29s\n"
     ]
    },
    {
     "name": "stderr",
     "output_type": "stream",
     "text": [
      "[Parallel(n_jobs=-2)]: Done 108 out of 108 | elapsed: 13.4min finished\n"
     ]
    }
   ],
   "source": [
    "%%time\n",
    "\n",
    "params = {'n_factors': [5,10,25], # starting on the lower end\n",
    "          'n_epochs': [5,10,15,20], # choosing values around the default\n",
    "          'lr_all': [0.002,0.005,0.01]} # choosing values around the default\n",
    "\n",
    "# 3 fold cross validation with the SVD\n",
    "grid_search = GridSearchCV(SVD, params, measures=['rmse', 'mae', 'fcp'], cv=3, joblib_verbose=2, n_jobs=-2)\n",
    "\n",
    "grid_search.fit(ratings_data)"
   ]
  },
  {
   "cell_type": "code",
   "execution_count": 80,
   "metadata": {},
   "outputs": [
    {
     "data": {
      "text/plain": [
       "{'rmse': {'n_factors': 5, 'n_epochs': 20, 'lr_all': 0.01},\n",
       " 'mae': {'n_factors': 5, 'n_epochs': 20, 'lr_all': 0.01},\n",
       " 'fcp': {'n_factors': 5, 'n_epochs': 20, 'lr_all': 0.01}}"
      ]
     },
     "execution_count": 80,
     "metadata": {},
     "output_type": "execute_result"
    }
   ],
   "source": [
    "grid_search.best_params"
   ]
  },
  {
   "cell_type": "markdown",
   "metadata": {},
   "source": [
    "It looks like for all metrics the ideal parameters are the same. The number of epochs and the learning rate are at the edge of the search, so we will widen it a bit and run it again."
   ]
  },
  {
   "cell_type": "markdown",
   "metadata": {},
   "source": [
    "### 3.2.2 Grid Search 2"
   ]
  },
  {
   "cell_type": "code",
   "execution_count": 81,
   "metadata": {},
   "outputs": [
    {
     "name": "stderr",
     "output_type": "stream",
     "text": [
      "[Parallel(n_jobs=-2)]: Using backend LokyBackend with 3 concurrent workers.\n",
      "[Parallel(n_jobs=-2)]: Done  35 tasks      | elapsed:  4.7min\n",
      "[Parallel(n_jobs=-2)]: Done 156 tasks      | elapsed: 24.2min\n"
     ]
    },
    {
     "name": "stdout",
     "output_type": "stream",
     "text": [
      "CPU times: user 3min 42s, sys: 9.64 s, total: 3min 51s\n",
      "Wall time: 55min 31s\n"
     ]
    },
    {
     "name": "stderr",
     "output_type": "stream",
     "text": [
      "[Parallel(n_jobs=-2)]: Done 288 out of 288 | elapsed: 55.5min finished\n"
     ]
    }
   ],
   "source": [
    "%%time\n",
    "\n",
    "params = {'n_factors': [3,4,5,10,25,50], # choosing higher factors for fun\n",
    "          'n_epochs': [15,20,25,50], # more epochs\n",
    "          'lr_all': [0.005,0.01,0.02,0.05]} # higher learning rate\n",
    "\n",
    "grid_search = GridSearchCV(SVD, params, measures=['rmse', 'mae', 'fcp'], cv=3, joblib_verbose=2, n_jobs=-2)\n",
    "\n",
    "grid_search.fit(ratings_data)"
   ]
  },
  {
   "cell_type": "code",
   "execution_count": 82,
   "metadata": {},
   "outputs": [
    {
     "data": {
      "text/plain": [
       "{'rmse': {'n_factors': 3, 'n_epochs': 50, 'lr_all': 0.01},\n",
       " 'mae': {'n_factors': 5, 'n_epochs': 50, 'lr_all': 0.01},\n",
       " 'fcp': {'n_factors': 5, 'n_epochs': 50, 'lr_all': 0.01}}"
      ]
     },
     "execution_count": 82,
     "metadata": {},
     "output_type": "execute_result"
    }
   ],
   "source": [
    "grid_search.best_params"
   ]
  },
  {
   "cell_type": "markdown",
   "metadata": {},
   "source": [
    "The number of epochs is still at the edge of our search so we will go again. However, this round has proven that the learning rate for all is best set at 0.01, so we will no longer be searching different values for this."
   ]
  },
  {
   "cell_type": "markdown",
   "metadata": {},
   "source": [
    "### 3.2.3 Grid Search 3"
   ]
  },
  {
   "cell_type": "markdown",
   "metadata": {},
   "source": [
    "For this round, we have added in the optimization of the [regularization](https://towardsdatascience.com/recommender-system-singular-value-decomposition-svd-truncated-svd-97096338f361) term. This will avoid overfitting by adding a penalty to the optimization. "
   ]
  },
  {
   "cell_type": "code",
   "execution_count": 83,
   "metadata": {},
   "outputs": [
    {
     "name": "stderr",
     "output_type": "stream",
     "text": [
      "[Parallel(n_jobs=-2)]: Using backend LokyBackend with 3 concurrent workers.\n",
      "[Parallel(n_jobs=-2)]: Done  35 tasks      | elapsed:  8.3min\n"
     ]
    },
    {
     "name": "stdout",
     "output_type": "stream",
     "text": [
      "CPU times: user 1min 5s, sys: 3.66 s, total: 1min 8s\n",
      "Wall time: 19min 6s\n"
     ]
    },
    {
     "name": "stderr",
     "output_type": "stream",
     "text": [
      "[Parallel(n_jobs=-2)]: Done  81 out of  81 | elapsed: 19.0min finished\n"
     ]
    }
   ],
   "source": [
    "%%time\n",
    "\n",
    "params = {'n_factors': [3,4,5],\n",
    "          'n_epochs': [45,50,55],\n",
    "          'lr_all': [0.01],\n",
    "          'reg_all': [0.01,0.02,0.03]}\n",
    "\n",
    "grid_search = GridSearchCV(SVD, params, measures=['rmse', 'mae', 'fcp'], cv=3, joblib_verbose=2, n_jobs=-2)\n",
    "\n",
    "grid_search.fit(ratings_data)"
   ]
  },
  {
   "cell_type": "code",
   "execution_count": 84,
   "metadata": {},
   "outputs": [
    {
     "data": {
      "text/plain": [
       "{'rmse': {'n_factors': 3, 'n_epochs': 50, 'lr_all': 0.01, 'reg_all': 0.03},\n",
       " 'mae': {'n_factors': 4, 'n_epochs': 55, 'lr_all': 0.01, 'reg_all': 0.02},\n",
       " 'fcp': {'n_factors': 5, 'n_epochs': 50, 'lr_all': 0.01, 'reg_all': 0.03}}"
      ]
     },
     "execution_count": 84,
     "metadata": {},
     "output_type": "execute_result"
    }
   ],
   "source": [
    "grid_search.best_params"
   ]
  },
  {
   "cell_type": "markdown",
   "metadata": {},
   "source": [
    "For this round we can see a divergence in the best parameters for the error terms. We now need to decide which error terms to prioritize.<br>\n",
    "RMSE penalizes large errors in a way that MAE does not. Using RMSE as the choice of error optimization would ensure that you have small errors, but there might be more predicted ratings that have errors than with MAE. But the errors with MAE may be much larger than with RMSE. For movie ratings, it would be permissible if many of the predicted ratings were off by one level, but if you were to make a gross misjudgement in a rating, such as rating something a 5 that was meant to be a 1, then you would recommend something that the user would definitely not like, which is not ideal. However, predicting a rating of 4 when the actual rating is 3 multiple times over, is not as large of an oversight and most likely wouldn't cause as many issues.<br>\n",
    "The FCP score looks at the fraction of pairs that are in the right \"order\", testing pairwise accuracy. This measure will be useful for making sure that our prediction rankings are solid.<br>\n",
    "With all of this in mind, we will attempt to find parameter values that satisfy both the RMSE and FCP scores, within reason. We can see that the regularization is on the edge so we will have to expand that parameter search. The FCP score shows best values at 5 factors while the RMSE shows best values at 3 factors. Three factors is much too low and could possibly lead to the model being underfit, so we will be choosing for the next round to search around 5 factors."
   ]
  },
  {
   "cell_type": "markdown",
   "metadata": {},
   "source": [
    "### 3.2.4 Grid Search 4"
   ]
  },
  {
   "cell_type": "code",
   "execution_count": 11,
   "metadata": {},
   "outputs": [
    {
     "name": "stderr",
     "output_type": "stream",
     "text": [
      "[Parallel(n_jobs=-2)]: Using backend LokyBackend with 3 concurrent workers.\n",
      "[Parallel(n_jobs=-2)]: Done  35 tasks      | elapsed:  9.0min\n"
     ]
    },
    {
     "name": "stdout",
     "output_type": "stream",
     "text": [
      "CPU times: user 1min 7s, sys: 3.28 s, total: 1min 10s\n",
      "Wall time: 20min 50s\n"
     ]
    },
    {
     "name": "stderr",
     "output_type": "stream",
     "text": [
      "[Parallel(n_jobs=-2)]: Done  81 out of  81 | elapsed: 20.8min finished\n"
     ]
    }
   ],
   "source": [
    "%%time\n",
    "\n",
    "params = {'n_factors': [4,5,6],\n",
    "          'n_epochs': [50,52,55],\n",
    "          'lr_all': [0.01],\n",
    "          'reg_all': [0.02,0.04,0.06]}\n",
    "\n",
    "grid_search = GridSearchCV(SVD, params, measures=['rmse', 'mae', 'fcp'], cv=3, joblib_verbose=2, n_jobs=-2)\n",
    "\n",
    "grid_search.fit(ratings_data)"
   ]
  },
  {
   "cell_type": "code",
   "execution_count": 12,
   "metadata": {},
   "outputs": [
    {
     "data": {
      "text/plain": [
       "{'rmse': {'n_factors': 6, 'n_epochs': 55, 'lr_all': 0.01, 'reg_all': 0.06},\n",
       " 'mae': {'n_factors': 5, 'n_epochs': 50, 'lr_all': 0.01, 'reg_all': 0.04},\n",
       " 'fcp': {'n_factors': 6, 'n_epochs': 55, 'lr_all': 0.01, 'reg_all': 0.06}}"
      ]
     },
     "execution_count": 12,
     "metadata": {},
     "output_type": "execute_result"
    }
   ],
   "source": [
    "grid_search.best_params"
   ]
  },
  {
   "cell_type": "markdown",
   "metadata": {},
   "source": [
    "Once again, the regularization, number of factors and epochs are all on the edge so we will have to expand further."
   ]
  },
  {
   "cell_type": "markdown",
   "metadata": {},
   "source": [
    "### 3.2.5 Grid Search 5"
   ]
  },
  {
   "cell_type": "code",
   "execution_count": 13,
   "metadata": {},
   "outputs": [
    {
     "name": "stderr",
     "output_type": "stream",
     "text": [
      "[Parallel(n_jobs=-2)]: Using backend LokyBackend with 3 concurrent workers.\n",
      "[Parallel(n_jobs=-2)]: Done  35 tasks      | elapsed: 14.5min\n"
     ]
    },
    {
     "name": "stdout",
     "output_type": "stream",
     "text": [
      "CPU times: user 1min 58s, sys: 6.15 s, total: 2min 4s\n",
      "Wall time: 1h 27min 41s\n"
     ]
    },
    {
     "name": "stderr",
     "output_type": "stream",
     "text": [
      "[Parallel(n_jobs=-2)]: Done 144 out of 144 | elapsed: 87.6min finished\n"
     ]
    }
   ],
   "source": [
    "%%time\n",
    "\n",
    "params = {'n_factors': [5,10,20,50],\n",
    "          'n_epochs': [50,100,150],\n",
    "          'lr_all': [0.01],\n",
    "          'reg_all': [0.01,0.06,0.08,0.1]}\n",
    "\n",
    "grid_search = GridSearchCV(SVD, params, measures=['rmse', 'mae', 'fcp'], cv=3, joblib_verbose=2, n_jobs=-2)\n",
    "\n",
    "grid_search.fit(ratings_data)"
   ]
  },
  {
   "cell_type": "code",
   "execution_count": 14,
   "metadata": {},
   "outputs": [
    {
     "data": {
      "text/plain": [
       "{'rmse': {'n_factors': 50, 'n_epochs': 50, 'lr_all': 0.01, 'reg_all': 0.08},\n",
       " 'mae': {'n_factors': 5, 'n_epochs': 100, 'lr_all': 0.01, 'reg_all': 0.06},\n",
       " 'fcp': {'n_factors': 50, 'n_epochs': 50, 'lr_all': 0.01, 'reg_all': 0.08}}"
      ]
     },
     "execution_count": 14,
     "metadata": {},
     "output_type": "execute_result"
    }
   ],
   "source": [
    "grid_search.best_params"
   ]
  },
  {
   "cell_type": "markdown",
   "metadata": {},
   "source": [
    "This last search shows the RMSE and FCP agreeing on values for the hyperparameters. We will now continue on with the number of epochs, learning rate and regularization set at 50, 0.01 and 0.08, respectively. However, to find the optimal number of factors, we will be using a for loop and visualizing the changes in error terms."
   ]
  },
  {
   "cell_type": "markdown",
   "metadata": {},
   "source": [
    "## 3.3 Visualization of Scores at Best Parameters"
   ]
  },
  {
   "cell_type": "markdown",
   "metadata": {},
   "source": [
    "For this stage of optimization, we will again be using the train-test-split data from 3.1."
   ]
  },
  {
   "cell_type": "code",
   "execution_count": 60,
   "metadata": {},
   "outputs": [
    {
     "name": "stdout",
     "output_type": "stream",
     "text": [
      "Fitting #factors = 34\n",
      "Fitting #factors = 38\n",
      "Fitting #factors = 42\n",
      "Fitting #factors = 46\n",
      "Fitting #factors = 48\n",
      "Fitting #factors = 50\n",
      "Fitting #factors = 52\n",
      "Fitting #factors = 54\n",
      "Fitting #factors = 56\n",
      "Fitting #factors = 60\n",
      "Fitting #factors = 64\n",
      "CPU times: user 16min 29s, sys: 16.4 s, total: 16min 46s\n",
      "Wall time: 19min 23s\n"
     ]
    }
   ],
   "source": [
    "%%time\n",
    "\n",
    "FCP_scores = []\n",
    "RMSE_scores = []\n",
    "MAE_scores = []\n",
    "MSE_scores = []\n",
    "\n",
    "N_Factors_list = [34,38,42,46,48,50,52,54,56,60,64] # searching around 50\n",
    "    \n",
    "for num in N_Factors_list:    \n",
    "    print(f'Fitting #factors = {num}')\n",
    "    ratings_FunkSVD = SVD(n_factors=num, \n",
    "                           n_epochs=50, # number of epochs\n",
    "                           lr_all=0.01, # learning rate\n",
    "                           reg_all=0.08, # regularization\n",
    "                           biased=False, \n",
    "                           verbose=0)\n",
    "\n",
    "    ratings_FunkSVD.fit(ratings_train_dataset)\n",
    "    predictions = ratings_FunkSVD.test(ratings_test_dataset)\n",
    "    FCP_scores.append(accuracy.fcp(predictions, verbose=False))\n",
    "    RMSE_scores.append(accuracy.rmse(predictions, verbose=False))\n",
    "    MAE_scores.append(accuracy.mae(predictions, verbose=False))\n",
    "    MSE_scores.append(accuracy.mse(predictions, verbose=False))"
   ]
  },
  {
   "cell_type": "code",
   "execution_count": 86,
   "metadata": {},
   "outputs": [
    {
     "data": {
      "image/png": "[encoded data removed]",
      "text/plain": [
       "<Figure size 720x576 with 4 Axes>"
      ]
     },
     "metadata": {
      "needs_background": "light"
     },
     "output_type": "display_data"
    }
   ],
   "source": [
    "plt.subplots(2,2, figsize=(10,8))\n",
    "plottables = [FCP_scores, RMSE_scores, MAE_scores, MSE_scores]\n",
    "plottables_titles = ['FCP Score', 'RMSE', 'MAE', 'MSE']\n",
    "\n",
    "for i, metric in enumerate(plottables):\n",
    "    plt.subplot(2,2,i+1)\n",
    "    plt.plot(N_Factors_list, metric, color='firebrick', marker=\"*\")\n",
    "    plt.title(f'{plottables_titles[i]}', fontsize=15)\n",
    "\n",
    "plt.tight_layout()\n",
    "plt.suptitle('Evaluation Metrics vs Number of Latent Variables', y=1.04, fontsize=18, fontweight=800)\n",
    "plt.show()"
   ]
  },
  {
   "cell_type": "markdown",
   "metadata": {},
   "source": [
    "The error terms all move together and show that the best number of latent variables is 60. However, the peak for the FCP score is at 56. Since the difference in score on the error terms from 56 to 60 is much larger than the difference for the FCP score, we will be going with 60 as the number of factors."
   ]
  },
  {
   "cell_type": "markdown",
   "metadata": {},
   "source": [
    "## 3.4 Retraining Best SVD on Full Trainset"
   ]
  },
  {
   "cell_type": "markdown",
   "metadata": {},
   "source": [
    "Now that we have optimized the hyperparameters, we will retrain the model on the full dataset and use the surprise package to build a testset from that. Again, we are not concerned about conventional data leakage for recommender systems because the evaluation metrics are more useful when compared against different iterations of the same model, less so across many different models or datasets."
   ]
  },
  {
   "cell_type": "code",
   "execution_count": 11,
   "metadata": {},
   "outputs": [],
   "source": [
    "# building test and train\n",
    "train_fullset = ratings_utility.build_full_trainset()\n",
    "test_fullset = train_fullset.build_testset()"
   ]
  },
  {
   "cell_type": "code",
   "execution_count": 12,
   "metadata": {},
   "outputs": [],
   "source": [
    "# instantiating model\n",
    "best_svd = SVD(n_factors=60, n_epochs=50, lr_all=0.01, reg_all=0.08, biased=False)"
   ]
  },
  {
   "cell_type": "code",
   "execution_count": 13,
   "metadata": {},
   "outputs": [
    {
     "data": {
      "text/plain": [
       "<surprise.prediction_algorithms.matrix_factorization.SVD at 0x10fe0cc10>"
      ]
     },
     "execution_count": 13,
     "metadata": {},
     "output_type": "execute_result"
    }
   ],
   "source": [
    "# retraining the best estimator on a full trainset\n",
    "best_svd.fit(train_fullset)"
   ]
  },
  {
   "cell_type": "code",
   "execution_count": 14,
   "metadata": {},
   "outputs": [
    {
     "name": "stdout",
     "output_type": "stream",
     "text": [
      "RMSE: 0.7908\n",
      "RMSE: 0.7907815295633329\n",
      "FCP:  0.7983\n",
      "FCP: 0.7982776594992249\n",
      "MAE:  0.6304\n",
      "MAE: 0.63038010591808\n",
      "MSE: 0.6253\n",
      "MSE: 0.6253354274985243\n"
     ]
    }
   ],
   "source": [
    "# checking evaluation metrics based on the test set\n",
    "SVD_testset_predictions = best_svd.test(test_fullset)\n",
    "print(f'RMSE: {accuracy.rmse(SVD_testset_predictions)}')\n",
    "print(f'FCP: {accuracy.fcp(SVD_testset_predictions)}')\n",
    "print(f'MAE: {accuracy.mae(SVD_testset_predictions)}')\n",
    "print(f'MSE: {accuracy.mse(SVD_testset_predictions)}')"
   ]
  },
  {
   "cell_type": "markdown",
   "metadata": {},
   "source": [
    "We can now create predictions for unknown values using this version of our SVD. To do so, we create something known as the anti-testset. This dataset is all of the unknown values in the original dataset. We can then score the model on these and create a predictions dataset."
   ]
  },
  {
   "cell_type": "code",
   "execution_count": 13,
   "metadata": {},
   "outputs": [],
   "source": [
    "# creating anti-testset\n",
    "ratings_antitest = train_fullset.build_anti_testset()"
   ]
  },
  {
   "cell_type": "code",
   "execution_count": 16,
   "metadata": {},
   "outputs": [
    {
     "name": "stdout",
     "output_type": "stream",
     "text": [
      "CPU times: user 3min 10s, sys: 2min 49s, total: 5min 59s\n",
      "Wall time: 6min 40s\n"
     ]
    }
   ],
   "source": [
    "# creating predictions\n",
    "%%time\n",
    "SVD_anti_predictions = best_svd.test(ratings_antitest)"
   ]
  },
  {
   "cell_type": "markdown",
   "metadata": {},
   "source": [
    "Now that we have the model and the predictions, we can save it as a pkl file to use in the next notebook."
   ]
  },
  {
   "cell_type": "code",
   "execution_count": 17,
   "metadata": {},
   "outputs": [
    {
     "name": "stdout",
     "output_type": "stream",
     "text": [
      "CPU times: user 5min 8s, sys: 10min 2s, total: 15min 10s\n",
      "Wall time: 19min 23s\n"
     ]
    }
   ],
   "source": [
    "# saving model and predictions\n",
    "%%time\n",
    "dump.dump('final_svd_test.pkl', predictions=SVD_testset_predictions, algo=best_svd)\n",
    "dump.dump('final_svd_anti.pkl', predictions=SVD_anti_predictions, algo=best_svd)"
   ]
  },
  {
   "cell_type": "markdown",
   "metadata": {},
   "source": [
    "## 3.5 Visualization of Latent Variables"
   ]
  },
  {
   "cell_type": "markdown",
   "metadata": {},
   "source": [
    "We can also visualize the latent variables that are stored in the model. The latent variables describe the underlying trends or preferences that influence user behaviour. They are not directly interpretable, since it is a form of dimensionality reduction. However, it is interesting to see if patterns emerge."
   ]
  },
  {
   "cell_type": "code",
   "execution_count": 91,
   "metadata": {},
   "outputs": [
    {
     "data": {
      "text/plain": [
       "(6040, 60)"
      ]
     },
     "execution_count": 91,
     "metadata": {},
     "output_type": "execute_result"
    }
   ],
   "source": [
    "# getting user matrix\n",
    "U = best_svd.pu\n",
    "U.shape"
   ]
  },
  {
   "cell_type": "code",
   "execution_count": 92,
   "metadata": {},
   "outputs": [
    {
     "data": {
      "text/plain": [
       "(60, 3706)"
      ]
     },
     "execution_count": 92,
     "metadata": {},
     "output_type": "execute_result"
    }
   ],
   "source": [
    "# getting movie matrix\n",
    "M = best_svd.qi.T\n",
    "M.shape"
   ]
  },
  {
   "cell_type": "code",
   "execution_count": 93,
   "metadata": {},
   "outputs": [
    {
     "data": {
      "image/png": "[encoded data removed]",
      "text/plain": [
       "<Figure size 720x1080 with 1 Axes>"
      ]
     },
     "metadata": {
      "needs_background": "light"
     },
     "output_type": "display_data"
    }
   ],
   "source": [
    "# help from :\n",
    "# https://stackoverflow.com/questions/10369681/how-to-plot-bar-graphs-with-same-x-coordinates-side-by-side-dodged\n",
    "# to make a side by side bar graph\n",
    "\n",
    "movie1_latent_variables = M[:,0] # we know this as toy story\n",
    "user1_latent_variables = U[0,:] # we know their rating as 4\n",
    "\n",
    "# specifying axis position for each variable\n",
    "axis_position = np.arange(1,len(movie1_latent_variables)+1)\n",
    "# specificying bar width\n",
    "bar_width = 0.3\n",
    "\n",
    "plt.figure(figsize=(10,15))\n",
    "plt.barh(axis_position, movie1_latent_variables, bar_width, label='Movie LV', color='black')\n",
    "# for the second, the axis position is the same as before, plus the bar width, so the bar is directly adjacent\n",
    "plt.barh(axis_position+bar_width, user1_latent_variables, bar_width, label='User LV', color='red')\n",
    "\n",
    "plt.ylabel('Latent Variables', fontsize=15, fontweight=800)\n",
    "plt.xlabel('Value', fontsize=15, fontweight=800)\n",
    "plt.yticks(axis_position, [f'Latent Var{i}' for i in axis_position])\n",
    "plt.title('Latent Variable Composition for User 1 and Movie 1', fontsize=18, fontweight=800)\n",
    "\n",
    "plt.legend()\n",
    "plt.show()\n"
   ]
  },
  {
   "cell_type": "markdown",
   "metadata": {},
   "source": [
    "From a quick search of the dataset, we know that user 1 rated movie 1 (Toy Story) as a 4. You can see that a significant portion of the latent variables seem to match up to one another, or at least trend in the same direction. These latent variables could describe certain trends in the data, such as animated films or movies about toys. We cannot know for sure at this moment."
   ]
  },
  {
   "cell_type": "markdown",
   "metadata": {},
   "source": [
    "We can, however, use the profiles of the user and film (made up of the latent variable values) to find the predicted rating for this film by the user."
   ]
  },
  {
   "cell_type": "code",
   "execution_count": 95,
   "metadata": {},
   "outputs": [
    {
     "data": {
      "text/plain": [
       "array([-0.32797276, -0.0044404 , -0.26910334, -0.09379053, -0.13951235,\n",
       "        0.05125416, -0.04895082,  0.11919003,  0.05958228,  0.01051432,\n",
       "        0.51075268,  0.10451903,  0.27241758, -0.1800402 , -0.37109039,\n",
       "        0.07896159,  0.00733823,  0.09095142, -0.09621368,  0.04480028,\n",
       "        0.06868544,  0.11504747, -0.08183265, -0.17877732,  0.01535705,\n",
       "        0.04405527,  0.3544595 ,  0.46640911,  0.11095682,  0.07037792,\n",
       "       -0.25407358, -0.08227748, -0.15547923,  0.24636781,  0.11273688,\n",
       "        0.27243453, -0.10197258, -0.26381449, -0.10114736,  0.15789815,\n",
       "       -0.44940105,  0.17192877,  0.729732  , -0.27700023, -0.46311032,\n",
       "        0.18076977,  0.12978161, -0.23825971,  0.5886186 , -0.75105788,\n",
       "       -0.0689459 , -0.13143953,  0.283947  ,  0.18425083, -0.15699498,\n",
       "        0.48569282,  0.35668221, -0.40199612,  0.08297083, -0.5684172 ])"
      ]
     },
     "execution_count": 95,
     "metadata": {},
     "output_type": "execute_result"
    }
   ],
   "source": [
    "# user 1 profile\n",
    "inner_userid_1 = train_fullset.to_inner_uid(1)\n",
    "user1_profile = U[inner_userid_1]\n",
    "user1_profile"
   ]
  },
  {
   "cell_type": "code",
   "execution_count": 96,
   "metadata": {},
   "outputs": [
    {
     "data": {
      "text/plain": [
       "array([-1.46183991e-01,  1.26207670e-01, -2.65975544e-01,  4.79738076e-03,\n",
       "       -3.35559800e-01,  8.98344779e-02,  3.76583161e-02,  1.65338519e-01,\n",
       "        1.87509463e-01,  9.27427705e-02,  6.64972790e-01,  2.76363103e-04,\n",
       "        3.85149568e-01, -4.79905744e-01, -2.34383293e-01, -2.46978344e-02,\n",
       "       -4.32703309e-02,  1.62966009e-01, -1.16917680e-01,  9.43364395e-02,\n",
       "        9.80425381e-02,  1.38787759e-01, -1.42971526e-01, -7.82718380e-02,\n",
       "       -1.81162098e-01,  7.98029496e-02,  2.10985504e-01,  5.08561332e-01,\n",
       "        5.97060017e-02,  5.37223399e-02, -3.98095382e-01, -5.16924933e-01,\n",
       "       -1.09001804e-01,  7.38150136e-02, -2.20380704e-01,  3.26522321e-01,\n",
       "       -1.69888626e-01, -4.19225230e-01, -7.99723227e-02,  4.40036873e-02,\n",
       "       -5.26327196e-01,  1.16528675e-01,  6.09418239e-01, -3.04206795e-01,\n",
       "       -3.39703077e-01,  8.21693694e-02, -1.09013147e-01, -3.23633166e-01,\n",
       "        3.29469244e-01, -5.02230309e-01,  1.04481704e-01, -1.11295923e-01,\n",
       "        1.27854680e-01,  2.13696232e-01, -1.30348985e-01,  3.53083183e-01,\n",
       "        7.27721999e-01, -5.47429181e-01,  6.44257051e-02, -6.01187354e-01])"
      ]
     },
     "execution_count": 96,
     "metadata": {},
     "output_type": "execute_result"
    }
   ],
   "source": [
    "# movie 1 profile\n",
    "inner_movieid_1 = train_fullset.to_inner_iid(1)\n",
    "movie1_profile = M[:, inner_movieid_1]\n",
    "movie1_profile"
   ]
  },
  {
   "cell_type": "markdown",
   "metadata": {},
   "source": [
    "The predicted rating is the dot product of the two profiles."
   ]
  },
  {
   "cell_type": "code",
   "execution_count": 97,
   "metadata": {},
   "outputs": [
    {
     "data": {
      "text/plain": [
       "4.296903482986218"
      ]
     },
     "execution_count": 97,
     "metadata": {},
     "output_type": "execute_result"
    }
   ],
   "source": [
    "# calculating dot product\n",
    "expected_rating_user1movie1 = np.dot(user1_profile, movie1_profile)\n",
    "expected_rating_user1movie1"
   ]
  },
  {
   "cell_type": "markdown",
   "metadata": {},
   "source": [
    "We know the actual rating is 4 and our model predicted a rating of 4.3."
   ]
  },
  {
   "cell_type": "markdown",
   "metadata": {},
   "source": [
    "# 4. KNNBaseline"
   ]
  },
  {
   "cell_type": "markdown",
   "metadata": {},
   "source": [
    "Of the other model options, the KNNBaseline seemed to be the most intriguing. This model is a KNN style type of recommender, which takes into account a baseline rating for both the user and the item. This means that the model removes some of the skew that can occur when people are generally more or less positive about how they review. It also takes into account the average rating of a film, to be able to judge if a users rating deviates from the norm. Like other KNN models, the model predicts the ratings for a film based on the number of \"nearest\" neighbours, which are calculated using the pearson correlation coefficient, modified to use item and user baselines instead of population means."
   ]
  },
  {
   "cell_type": "markdown",
   "metadata": {},
   "source": [
    "## 4.1 Number of Neighbours Optimization"
   ]
  },
  {
   "cell_type": "markdown",
   "metadata": {},
   "source": [
    "For the optimization, we will be searching for the optimal number of neighbours, using the defaults for other parameters."
   ]
  },
  {
   "cell_type": "code",
   "execution_count": 152,
   "metadata": {},
   "outputs": [
    {
     "name": "stdout",
     "output_type": "stream",
     "text": [
      "Fitting k = 40\n",
      "Estimating biases using als...\n",
      "Computing the pearson_baseline similarity matrix...\n",
      "Done computing similarity matrix.\n",
      "Fitting k = 50\n",
      "Estimating biases using als...\n",
      "Computing the pearson_baseline similarity matrix...\n",
      "Done computing similarity matrix.\n",
      "Fitting k = 60\n",
      "Estimating biases using als...\n",
      "Computing the pearson_baseline similarity matrix...\n",
      "Done computing similarity matrix.\n",
      "Fitting k = 70\n",
      "Estimating biases using als...\n",
      "Computing the pearson_baseline similarity matrix...\n",
      "Done computing similarity matrix.\n",
      "Fitting k = 80\n",
      "Estimating biases using als...\n",
      "Computing the pearson_baseline similarity matrix...\n",
      "Done computing similarity matrix.\n",
      "Fitting k = 90\n",
      "Estimating biases using als...\n",
      "Computing the pearson_baseline similarity matrix...\n",
      "Done computing similarity matrix.\n",
      "CPU times: user 28min 3s, sys: 19.9 s, total: 28min 23s\n",
      "Wall time: 30min 13s\n"
     ]
    }
   ],
   "source": [
    "%%time\n",
    "\n",
    "# evaluation metrics\n",
    "FCP_scores = []\n",
    "RMSE_scores = []\n",
    "MAE_scores = []\n",
    "MSE_scores = []\n",
    "\n",
    "# number neighbours\n",
    "Ks = [40,50,60,70,80,90]\n",
    "\n",
    "# for loop\n",
    "for k in Ks:    \n",
    "    print(f'Fitting k = {k}')\n",
    "    ratings_KNN = KNNBaseline(k=k, sim_options={'name':'pearson_baseline', 'user_based': True}, bsl_options={'method': 'als'})\n",
    "\n",
    "    ratings_KNN.fit(ratings_train_dataset)\n",
    "    predictions = ratings_KNN.test(ratings_test_dataset)\n",
    "    FCP_scores.append(accuracy.fcp(predictions, verbose=False))\n",
    "    RMSE_scores.append(accuracy.rmse(predictions, verbose=False))\n",
    "    MAE_scores.append(accuracy.mae(predictions, verbose=False))\n",
    "    MSE_scores.append(accuracy.mse(predictions, verbose=False))"
   ]
  },
  {
   "cell_type": "markdown",
   "metadata": {},
   "source": [
    "## 4.2 Visualization of Scores for Number of Neighbours"
   ]
  },
  {
   "cell_type": "code",
   "execution_count": 153,
   "metadata": {},
   "outputs": [
    {
     "data": {
      "image/png": "[encoded data removed]",
      "text/plain": [
       "<Figure size 720x576 with 4 Axes>"
      ]
     },
     "metadata": {
      "needs_background": "light"
     },
     "output_type": "display_data"
    }
   ],
   "source": [
    "plt.subplots(2,2, figsize=(10,8))\n",
    "plottables = [FCP_scores, RMSE_scores, MAE_scores, MSE_scores]\n",
    "plottables_titles = ['FCP Score', 'RMSE', 'MAE', 'MSE']\n",
    "\n",
    "for i, metric in enumerate(plottables):\n",
    "    plt.subplot(2,2,i+1)\n",
    "    plt.plot(Ks, metric, color='firebrick', marker=\"*\")\n",
    "    plt.title(f'{plottables_titles[i]}', fontsize=15)\n",
    "\n",
    "plt.tight_layout()\n",
    "plt.suptitle('Evaluation Metrics vs Number of Neighbours', y=1.04, fontsize=18, fontweight=800)\n",
    "plt.show()"
   ]
  },
  {
   "cell_type": "markdown",
   "metadata": {},
   "source": [
    "It seems as though the best value for the number of neighbours is 50 for the error terms and 60 for the FCP score. Again, because the difference in values for the error terms is larger between 50 and 60 than it is for the FCP score, we will be continuing with 50 as our optimal number of neighbours."
   ]
  },
  {
   "cell_type": "markdown",
   "metadata": {},
   "source": [
    "## 4.3 Retraining Best KNN on Full Trainset"
   ]
  },
  {
   "cell_type": "markdown",
   "metadata": {},
   "source": [
    "As with the SVD before, we can retrain the KNN on the full dataset and get predictions for the full anti-testset. We can then save the model and predictions for use later on."
   ]
  },
  {
   "cell_type": "code",
   "execution_count": 12,
   "metadata": {},
   "outputs": [
    {
     "name": "stdout",
     "output_type": "stream",
     "text": [
      "Estimating biases using als...\n",
      "Computing the pearson_baseline similarity matrix...\n",
      "Done computing similarity matrix.\n"
     ]
    },
    {
     "data": {
      "text/plain": [
       "<surprise.prediction_algorithms.knns.KNNBaseline at 0x139f2a0a0>"
      ]
     },
     "execution_count": 12,
     "metadata": {},
     "output_type": "execute_result"
    }
   ],
   "source": [
    "# retraining best estimator on the full set\n",
    "KNNBest = KNNBaseline(k=50, sim_options={'name':'pearson_baseline', 'user_based': True}, bsl_options={'method': 'als'})\n",
    "KNNBest.fit(ratings_train_dataset)"
   ]
  },
  {
   "cell_type": "code",
   "execution_count": 16,
   "metadata": {},
   "outputs": [
    {
     "name": "stdout",
     "output_type": "stream",
     "text": [
      "FCP: 0.7521624488045462\n",
      "RMSE: 0.8749808920945615\n",
      "MAE: 0.6859648175085409\n",
      "MSE: 0.7655915615305948\n"
     ]
    }
   ],
   "source": [
    "# getting predictions for the smaller testset\n",
    "KNN_testset_predictions = KNNBest.test(ratings_test_dataset)\n",
    "print(f'FCP: {accuracy.fcp(KNN_testset_predictions, verbose=False)}')\n",
    "print(f'RMSE: {accuracy.rmse(KNN_testset_predictions, verbose=False)}')\n",
    "print(f'MAE: {accuracy.mae(KNN_testset_predictions, verbose=False)}')\n",
    "print(f'MSE: {accuracy.mse(KNN_testset_predictions, verbose=False)}')"
   ]
  },
  {
   "cell_type": "code",
   "execution_count": 14,
   "metadata": {},
   "outputs": [
    {
     "name": "stdout",
     "output_type": "stream",
     "text": [
      "CPU times: user 1h 19min 22s, sys: 1min 41s, total: 1h 21min 4s\n",
      "Wall time: 1h 25min 40s\n"
     ]
    }
   ],
   "source": [
    "# getting prediction for the anti-testset\n",
    "%%time\n",
    "KNN_anti_predictions = KNNBest.test(ratings_antitest)"
   ]
  },
  {
   "cell_type": "code",
   "execution_count": 19,
   "metadata": {},
   "outputs": [
    {
     "name": "stdout",
     "output_type": "stream",
     "text": [
      "CPU times: user 3.93 s, sys: 4.33 s, total: 8.26 s\n",
      "Wall time: 11 s\n"
     ]
    }
   ],
   "source": [
    "# saving smaller predictions set\n",
    "%%time\n",
    "dump.dump('final_KNN_test.pkl', predictions=KNN_testset_predictions, algo=KNNBest)"
   ]
  },
  {
   "cell_type": "code",
   "execution_count": 15,
   "metadata": {},
   "outputs": [
    {
     "name": "stdout",
     "output_type": "stream",
     "text": [
      "CPU times: user 3min 17s, sys: 5min 23s, total: 8min 41s\n",
      "Wall time: 14min 4s\n"
     ]
    }
   ],
   "source": [
    "# saving anti-testset predictions\n",
    "%%time\n",
    "dump.dump('final_KNN_anti.pkl', predictions=KNN_anti_predictions, algo=KNNBest)"
   ]
  },
  {
   "cell_type": "markdown",
   "metadata": {},
   "source": [
    "This concludes the model selection and optimization process. Please continue to notebook 3/4 for further evaluation and creation of recommender functions."
   ]
  }
 ],
 "metadata": {
  "kernelspec": {
   "display_name": "bigdata_ml",
   "language": "python",
   "name": "bigdata_ml"
  },
  "language_info": {
   "codemirror_mode": {
    "name": "ipython",
    "version": 3
   },
   "file_extension": ".py",
   "mimetype": "text/x-python",
   "name": "python",
   "nbconvert_exporter": "python",
   "pygments_lexer": "ipython3",
   "version": "3.8.8"
  },
  "toc": {
   "base_numbering": 1,
   "nav_menu": {},
   "number_sections": false,
   "sideBar": true,
   "skip_h1_title": false,
   "title_cell": "Table of Contents",
   "title_sidebar": "Contents",
   "toc_cell": true,
   "toc_position": {},
   "toc_section_display": true,
   "toc_window_display": true
  }
 },
 "nbformat": 4,
 "nbformat_minor": 5
}
